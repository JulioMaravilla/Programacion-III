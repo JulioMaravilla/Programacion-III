{
  "cells": [
    {
      "cell_type": "markdown",
      "metadata": {
        "id": "view-in-github",
        "colab_type": "text"
      },
      "source": [
        "<a href=\"https://colab.research.google.com/github/JulioMaravilla/Programacion-III/blob/main/Introducci%C3%B3n_a_Python.ipynb\" target=\"_parent\"><img src=\"https://colab.research.google.com/assets/colab-badge.svg\" alt=\"Open In Colab\"/></a>"
      ]
    },
    {
      "cell_type": "code",
      "source": [
        "print(\"hola Mundo\", \"Bienvenidos a Programacion Computacional III, con Python\")\n",
        "print(\"Mi nombre es: \", \"Luis Hernandez\")"
      ],
      "metadata": {
        "colab": {
          "base_uri": "https://localhost:8080/"
        },
        "id": "UCkS6osCkApL",
        "outputId": "d171fdeb-4c0d-4452-d722-a611bce73771"
      },
      "execution_count": null,
      "outputs": [
        {
          "output_type": "stream",
          "name": "stdout",
          "text": [
            "hola Mundo Bienvenidos a Programacion Computacional III, con Python\n",
            "Mi nombre es:  Luis Hernandez\n"
          ]
        }
      ]
    },
    {
      "cell_type": "code",
      "source": [
        "nombre = \"Luis Hernandez\"\n",
        "print(\"Hola \", nombre, type(nombre))\n",
        "\n",
        "nombre = 25\n",
        "print(\"Tu edad es: \", nombre + 2, type(nombre))"
      ],
      "metadata": {
        "colab": {
          "base_uri": "https://localhost:8080/"
        },
        "id": "qPWp-MBLkr-5",
        "outputId": "959e23cb-836a-4960-b872-639f969d8337"
      },
      "execution_count": null,
      "outputs": [
        {
          "output_type": "stream",
          "name": "stdout",
          "text": [
            "Hola  Luis Hernandez <class 'str'>\n",
            "Tu edad es:  27 <class 'int'>\n"
          ]
        }
      ]
    },
    {
      "cell_type": "code",
      "source": [
        "nombre = \"Luis Hernandez\"\n",
        "print(\"Tu nombre es: \", nombre, \"Longitud de tu Nombre: \", len(nombre), \"Iniciales: \", nombre[0],nombre[5])"
      ],
      "metadata": {
        "colab": {
          "base_uri": "https://localhost:8080/"
        },
        "id": "b1wFQ0v1luh9",
        "outputId": "42ddd166-97a5-4cb2-877d-71411f6f0585"
      },
      "execution_count": null,
      "outputs": [
        {
          "output_type": "stream",
          "name": "stdout",
          "text": [
            "Tu nombre es:  Luis Hernandez Longitud de tu Nombre:  14 Iniciales:  L H\n"
          ]
        }
      ]
    },
    {
      "cell_type": "code",
      "source": [
        "num1 = 5\n",
        "num2 = 4.6\n",
        "resp = num1 + num2\n",
        "print(\"La suma de num1: \", num1 , \" + num2: \", num2, \"es igual a: \", resp)\n"
      ],
      "metadata": {
        "id": "_xM2LhBPjIPI",
        "outputId": "9520fa86-b84e-49de-97dd-590913b95662",
        "colab": {
          "base_uri": "https://localhost:8080/"
        }
      },
      "execution_count": null,
      "outputs": [
        {
          "output_type": "stream",
          "name": "stdout",
          "text": [
            "La suma de num1:  5  + num2:  4.6 es igual a:  9.6\n"
          ]
        }
      ]
    },
    {
      "cell_type": "code",
      "source": [
        "num1 = float(input(\"Ingrese un numero entero: \"))\n",
        "num2 = float(input(\"Ingrese otro Num decimal: \"))\n",
        "resp = num1 + num2\n",
        "print(\"SUma\", resp, type(resp))"
      ],
      "metadata": {
        "id": "nN2Zmp4mlmWq",
        "outputId": "d3cb1e57-1ea8-4929-a98b-98ded527c8a5",
        "colab": {
          "base_uri": "https://localhost:8080/"
        }
      },
      "execution_count": null,
      "outputs": [
        {
          "output_type": "stream",
          "name": "stdout",
          "text": [
            "Ingrese un numero entero: 7\n",
            "Ingrese otro Num decimal: 3\n",
            "SUma 10.0 <class 'float'>\n"
          ]
        }
      ]
    },
    {
      "cell_type": "code",
      "source": [
        "nombre = input(\"Dime tu nombre: \")\n",
        "print(nombre, type(nombre), len(nombre))\n",
        "\n",
        "print(nombre[0], nombre[1], nombre[2], nombre[3])"
      ],
      "metadata": {
        "id": "k9h1o-5RpHoQ",
        "outputId": "1551df90-99b8-45c4-93e5-112081addd81",
        "colab": {
          "base_uri": "https://localhost:8080/"
        }
      },
      "execution_count": null,
      "outputs": [
        {
          "output_type": "stream",
          "name": "stdout",
          "text": [
            "Dime tu nombre: Luis\n",
            "Luis <class 'str'> 4\n",
            "L u i s\n"
          ]
        }
      ]
    },
    {
      "cell_type": "code",
      "source": [
        "resp = 4 - 4 * 6 / 2 + 1\n",
        "print(resp)"
      ],
      "metadata": {
        "id": "MbeWup6wsvpi",
        "outputId": "e7fb85e4-e7e4-472a-b652-5a6b08eb14cc",
        "colab": {
          "base_uri": "https://localhost:8080/"
        }
      },
      "execution_count": null,
      "outputs": [
        {
          "output_type": "stream",
          "name": "stdout",
          "text": [
            "-7.0\n"
          ]
        }
      ]
    },
    {
      "cell_type": "code",
      "source": [
        "gustaProgramacion = True #False\n",
        "print(\"Te gusta programar: \", gustaProgramacion)\n",
        "\n",
        "gustaDiseno = False\n",
        "print(\"Te gusta diseñar: \", gustaDiseno)"
      ],
      "metadata": {
        "id": "SA6sl7PKuBIF",
        "outputId": "0143249f-ae7c-46b7-df92-1ee4017a02e9",
        "colab": {
          "base_uri": "https://localhost:8080/"
        }
      },
      "execution_count": null,
      "outputs": [
        {
          "output_type": "stream",
          "name": "stdout",
          "text": [
            "Te gusta programar:  True\n",
            "Te gusta diseñar:  False\n"
          ]
        }
      ]
    },
    {
      "cell_type": "code",
      "source": [
        "def suma(num1, num2):\n",
        "  return num1 + num2\n",
        "print(\"La suma de 5 + 7 = \", suma(5,7))\n"
      ],
      "metadata": {
        "id": "ftKpNB3rwGZ8",
        "outputId": "05a06c45-7696-498b-f062-953bc92a5d3d",
        "colab": {
          "base_uri": "https://localhost:8080/"
        }
      },
      "execution_count": null,
      "outputs": [
        {
          "output_type": "stream",
          "name": "stdout",
          "text": [
            "La suma de 5 + 7 =  12\n"
          ]
        }
      ]
    },
    {
      "cell_type": "code",
      "source": [
        "def suma(num1, num2):\n",
        "  return num1 + num2\n",
        "num1 = float(input(\"Dime un numero: \"))\n",
        "num2 = float(input(\"Dime otro numero: \"))\n",
        "\n",
        "print(\"La suma es: \", suma(num1, num2))"
      ],
      "metadata": {
        "id": "rat_8U5Gy0Pf",
        "outputId": "7809eb4e-f527-4a77-edf5-0922c9fabb0b",
        "colab": {
          "base_uri": "https://localhost:8080/"
        }
      },
      "execution_count": null,
      "outputs": [
        {
          "output_type": "stream",
          "name": "stdout",
          "text": [
            "Dime un numero: 5\n",
            "Dime otro numero: 4\n",
            "La suma es:  9.0\n"
          ]
        }
      ]
    },
    {
      "cell_type": "code",
      "source": [
        "suma = lambda num1,num2: num1 + num2"
      ],
      "metadata": {
        "id": "G_mjknpYg9gw"
      },
      "execution_count": null,
      "outputs": []
    },
    {
      "cell_type": "code",
      "source": [
        "num1 = float(input(\"Num1: \"))\n",
        "num2 = float(input(\"Num2: \"))\n",
        "print( \"La respuesta es: \", suma(num1, num2))"
      ],
      "metadata": {
        "colab": {
          "base_uri": "https://localhost:8080/"
        },
        "id": "m2x8bIfTgblE",
        "outputId": "f961247f-caf3-439d-f5b0-10de59c8e37b"
      },
      "execution_count": null,
      "outputs": [
        {
          "output_type": "stream",
          "name": "stdout",
          "text": [
            "Num1: 5\n",
            "Num2: 4.5\n",
            "La respuesta es:  9.5\n"
          ]
        }
      ]
    },
    {
      "cell_type": "code",
      "source": [
        "lista = [2,7,8,6,9]"
      ],
      "metadata": {
        "id": "pk_lAJWEi-0G"
      },
      "execution_count": null,
      "outputs": []
    },
    {
      "cell_type": "code",
      "source": [
        "cuadrado = lambda num: num**2"
      ],
      "metadata": {
        "id": "y6RNkfX6jbPc"
      },
      "execution_count": null,
      "outputs": []
    },
    {
      "cell_type": "code",
      "source": [
        "print( type(cuadrado) )"
      ],
      "metadata": {
        "colab": {
          "base_uri": "https://localhost:8080/"
        },
        "id": "v6nCX9_umx4X",
        "outputId": "2a3cf4e8-3713-4123-bd8b-250400a17ca6"
      },
      "execution_count": null,
      "outputs": [
        {
          "output_type": "stream",
          "name": "stdout",
          "text": [
            "<class 'function'>\n"
          ]
        }
      ]
    },
    {
      "cell_type": "code",
      "source": [
        "cubo  = lambda num: num**3"
      ],
      "metadata": {
        "id": "aR8i9z_IkiVh"
      },
      "execution_count": null,
      "outputs": []
    },
    {
      "cell_type": "code",
      "source": [
        "potencia = lambda num, n: num**n"
      ],
      "metadata": {
        "id": "V_bfkX01k47-"
      },
      "execution_count": null,
      "outputs": []
    },
    {
      "cell_type": "code",
      "source": [
        "print(\"Lista: \", lista, \" al cuadrado: \", list( map(cuadrado, lista) ), \" al cubo: \", list(map(cubo, lista)) )"
      ],
      "metadata": {
        "colab": {
          "base_uri": "https://localhost:8080/"
        },
        "id": "krLlS7XOj5pt",
        "outputId": "e13dfbbc-cec3-4fba-8b88-b997ea48e990"
      },
      "execution_count": null,
      "outputs": [
        {
          "output_type": "stream",
          "name": "stdout",
          "text": [
            "Lista:  [2, 7, 8, 6, 9]  al cuadrado:  [4, 49, 64, 36, 81]  al cubo:  [8, 343, 512, 216, 729]\n"
          ]
        }
      ]
    },
    {
      "cell_type": "code",
      "source": [
        "print( \"2 al cubo es: \", potencia(4, 5) )"
      ],
      "metadata": {
        "colab": {
          "base_uri": "https://localhost:8080/"
        },
        "id": "-5sQJsnflCg3",
        "outputId": "c1ee21c1-097e-444f-ec6b-e5fb2c950d6c"
      },
      "execution_count": null,
      "outputs": [
        {
          "output_type": "stream",
          "name": "stdout",
          "text": [
            "2 al cubo es:  1024\n"
          ]
        }
      ]
    },
    {
      "cell_type": "code",
      "source": [
        "print(\"Lista Original: \", lista, \" al cubo: \", list(map(lambda num: num**3, lista)) )"
      ],
      "metadata": {
        "colab": {
          "base_uri": "https://localhost:8080/"
        },
        "id": "d3BlCSHCl8Ak",
        "outputId": "e94d40ea-e022-4e02-adac-7456aa755cd5"
      },
      "execution_count": null,
      "outputs": [
        {
          "output_type": "stream",
          "name": "stdout",
          "text": [
            "Lista Original:  [2, 7, 8, 6, 9]  al cubo:  [8, 343, 512, 216, 729]\n"
          ]
        }
      ]
    },
    {
      "cell_type": "code",
      "source": [
        "fpares = lambda num: num%2==0 # %=> Modulo=> devuelve el residuo de una division 5/2 = 1=>residuo"
      ],
      "metadata": {
        "id": "SvG8Izv0n6W4"
      },
      "execution_count": null,
      "outputs": []
    },
    {
      "cell_type": "code",
      "source": [
        "fimpares = lambda num: num%2!=0"
      ],
      "metadata": {
        "id": "kAJakkZPpCvd"
      },
      "execution_count": null,
      "outputs": []
    },
    {
      "cell_type": "code",
      "source": [
        "print(\"Lista original: \", lista, \" solo pares: \", list(filter(fpares, lista)), \" los impares: \", list(filter(fimpares, lista)) )"
      ],
      "metadata": {
        "colab": {
          "base_uri": "https://localhost:8080/"
        },
        "id": "WyYZMdvPoOUX",
        "outputId": "352435fa-90f2-4af5-c35f-ac6054144da5"
      },
      "execution_count": null,
      "outputs": [
        {
          "output_type": "stream",
          "name": "stdout",
          "text": [
            "Lista original:  [2, 7, 8, 6, 9]  solo pares:  [2, 8, 6]  los impares:  [7, 9]\n"
          ]
        }
      ]
    },
    {
      "cell_type": "code",
      "source": [
        "suma = lambda a,b: a+b"
      ],
      "metadata": {
        "id": "FI6-cO7qtna4"
      },
      "execution_count": null,
      "outputs": []
    },
    {
      "cell_type": "code",
      "source": [
        "#import functools"
      ],
      "metadata": {
        "id": "dprWtmbIwV84"
      },
      "execution_count": null,
      "outputs": []
    },
    {
      "cell_type": "code",
      "source": [
        "import functools\n",
        "print(\"Lista original: \", lista, \"la suma: \", functools.reduce(suma, lista), \" media Aritmetica: \", functools.reduce(suma, lista)/len(lista) )"
      ],
      "metadata": {
        "id": "i1KMQinZuB74",
        "outputId": "757780cd-5d83-4a35-e07e-5e76b3a05989",
        "colab": {
          "base_uri": "https://localhost:8080/"
        }
      },
      "execution_count": null,
      "outputs": [
        {
          "output_type": "stream",
          "name": "stdout",
          "text": [
            "Lista original:  [2, 7, 8, 6, 9] la suma:  32  media Aritmetica:  6.4\n"
          ]
        }
      ]
    },
    {
      "cell_type": "code",
      "source": [
        "c= 27"
      ],
      "metadata": {
        "id": "YlB0XCA8lsoL"
      },
      "execution_count": null,
      "outputs": []
    },
    {
      "cell_type": "code",
      "source": [
        "def convertirCaF(c):\n",
        "  return c*9/5 + 32"
      ],
      "metadata": {
        "id": "Z-vezq73mV6s"
      },
      "execution_count": null,
      "outputs": []
    },
    {
      "cell_type": "code",
      "source": [
        "print(\"Celsius a F: \", convertirCaF(c))"
      ],
      "metadata": {
        "colab": {
          "base_uri": "https://localhost:8080/"
        },
        "id": "fBBzsBSOn71Q",
        "outputId": "a751cfbe-2258-486f-c5f7-575813e97703"
      },
      "execution_count": null,
      "outputs": [
        {
          "output_type": "stream",
          "name": "stdout",
          "text": [
            "Celsius a F:  80.6\n"
          ]
        }
      ]
    },
    {
      "cell_type": "code",
      "source": [
        "gradosCiudades = [27, 30, 32, 35, 40, 45]"
      ],
      "metadata": {
        "id": "1OCpowDppbwd"
      },
      "execution_count": null,
      "outputs": []
    },
    {
      "cell_type": "code",
      "source": [
        "print(gradosCiudades, \"Respuesta: \", list(map(convertirCaF, gradosCiudades)) )"
      ],
      "metadata": {
        "colab": {
          "base_uri": "https://localhost:8080/"
        },
        "id": "6ruACnqCp9W9",
        "outputId": "b97045dd-5bcc-446a-fa30-f6760e12e3a3"
      },
      "execution_count": null,
      "outputs": [
        {
          "output_type": "stream",
          "name": "stdout",
          "text": [
            "[27, 30, 32, 35, 40, 45] Respuesta:  [80.6, 86.0, 89.6, 95.0, 104.0, 113.0]\n"
          ]
        }
      ]
    },
    {
      "cell_type": "code",
      "source": [
        "gradosf = [80.6, 86, 89.6, 95, 104, 113]"
      ],
      "metadata": {
        "id": "dAZeL63uxFHf"
      },
      "execution_count": null,
      "outputs": []
    },
    {
      "cell_type": "code",
      "source": [
        "def convertirFaC(f):\n",
        "  return (f-32) * 5/9"
      ],
      "metadata": {
        "id": "yqxBOlDSyEv0"
      },
      "execution_count": null,
      "outputs": []
    },
    {
      "cell_type": "code",
      "source": [
        "print(gradosf, \" Respuesta: \", list(map(convertirFaC, gradosf)) )"
      ],
      "metadata": {
        "id": "iqF3ojO3ySE-",
        "outputId": "866767ea-0347-4c5a-bd46-84d7c167022c",
        "colab": {
          "base_uri": "https://localhost:8080/"
        }
      },
      "execution_count": null,
      "outputs": [
        {
          "output_type": "stream",
          "name": "stdout",
          "text": [
            "[80.6, 86, 89.6, 95, 104, 113]  Respuesta:  [26.999999999999996, 30.0, 32.0, 35.0, 40.0, 45.0]\n"
          ]
        }
      ]
    },
    {
      "cell_type": "code",
      "source": [
        "print(gradosf, \" Respuesta: \", list(map(lambda f: (f-32)*5/9, gradosf)) )"
      ],
      "metadata": {
        "id": "UvFnYOGS2FMg",
        "outputId": "dd917c8d-8ff8-415b-e16f-e0638904b619",
        "colab": {
          "base_uri": "https://localhost:8080/"
        }
      },
      "execution_count": null,
      "outputs": [
        {
          "output_type": "stream",
          "name": "stdout",
          "text": [
            "[80.6, 86, 89.6, 95, 104, 113]  Respuesta:  [26.999999999999996, 30.0, 32.0, 35.0, 40.0, 45.0]\n"
          ]
        }
      ]
    },
    {
      "cell_type": "markdown",
      "source": [
        "**Trea:** \n",
        "* Hacer un algoritmo en python que convierta de grados Celsius a Kelvin y viceversa, usando funciones de usuario y lambda.\n",
        "\n",
        "* Hacer un algoritmo en python que encuentre la Nota Final de Ciclo de una Materia en Particular usando funciones de usuario y lambda."
      ],
      "metadata": {
        "id": "Wc2DDF7-zrWT"
      }
    },
    {
      "cell_type": "code",
      "source": [
        "edades = (2,5,12,18,65,100) #La tupl es inmutable, es decir, no podemos cambiar su valor y se declara con parenteis pero se usa con corchetes\n",
        "print( edades, \"La edad de bebe es la mejor: \", edades[0] )\n",
        "\n",
        "#edades[0] = 1, es inmutable, no se puede modificar"
      ],
      "metadata": {
        "colab": {
          "base_uri": "https://localhost:8080/"
        },
        "id": "pzb4DHW_qLzt",
        "outputId": "90e7d95f-90c4-4f92-8bb8-c17da05b2cf5"
      },
      "execution_count": null,
      "outputs": [
        {
          "output_type": "stream",
          "name": "stdout",
          "text": [
            "(2, 5, 12, 18, 65, 100) La edad de bebe es la mejor:  2\n"
          ]
        }
      ]
    },
    {
      "cell_type": "code",
      "source": [
        "print(\"Edades: \", edades, \"Responsabilidades: \", tuple( filter(lambda e:e>=18, edades) ) )\n",
        "print(\"Edades: \", edades, \" Al cuadrado: \", tuple(map(lambda n:n**2, edades)) )"
      ],
      "metadata": {
        "colab": {
          "base_uri": "https://localhost:8080/"
        },
        "id": "hcBMcV1NrlDq",
        "outputId": "eb5eb1d2-dca3-4999-c84b-7ca2b5e15e4a"
      },
      "execution_count": null,
      "outputs": [
        {
          "output_type": "stream",
          "name": "stdout",
          "text": [
            "Edades:  (2, 5, 12, 18, 65, 100) Responsabilidades:  (18, 65, 100)\n",
            "Edades:  (2, 5, 12, 18, 65, 100)  Al cuadrado:  (4, 25, 144, 324, 4225, 10000)\n"
          ]
        }
      ]
    },
    {
      "cell_type": "code",
      "source": [
        "notas = [6,8,10] #Listas, son mutables, es decir, podemos cambiar sus valores y se declaran y usan con corchetes\n",
        "print(\"Notas Originales: \", notas)\n",
        "\n",
        "notas[0] = 9\n",
        "print(\"Notas: \", notas)"
      ],
      "metadata": {
        "colab": {
          "base_uri": "https://localhost:8080/"
        },
        "id": "vWZyMZZjst-J",
        "outputId": "939ff749-64af-4235-a4c5-e5cb8f3f247d"
      },
      "execution_count": null,
      "outputs": [
        {
          "output_type": "stream",
          "name": "stdout",
          "text": [
            "Notas Originales:  [6, 8, 10]\n",
            "Notas:  [9, 8, 10]\n"
          ]
        }
      ]
    },
    {
      "cell_type": "code",
      "source": [
        "notasProgra = [\n",
        "    [9,8,10], #C1\n",
        "    [10,6,9], #C2\n",
        "    [10,9,10] #C3\n",
        "]\n",
        "print(notasProgra)"
      ],
      "metadata": {
        "colab": {
          "base_uri": "https://localhost:8080/"
        },
        "id": "BKezsmv8tYIz",
        "outputId": "adbeb59c-4d04-4568-f140-def238139f96"
      },
      "execution_count": null,
      "outputs": [
        {
          "output_type": "stream",
          "name": "stdout",
          "text": [
            "[[9, 8, 10], [10, 6, 9], [10, 9, 10]]\n"
          ]
        }
      ]
    },
    {
      "cell_type": "code",
      "source": [
        "print(\"Lab2 de C1\", notasProgra[0][1] )"
      ],
      "metadata": {
        "colab": {
          "base_uri": "https://localhost:8080/"
        },
        "id": "XamZI0-JtyWA",
        "outputId": "28afbe8b-5048-4335-8e75-bac6f8571e5f"
      },
      "execution_count": null,
      "outputs": [
        {
          "output_type": "stream",
          "name": "stdout",
          "text": [
            "Lab2 de C1 8\n"
          ]
        }
      ]
    },
    {
      "cell_type": "code",
      "source": [
        "notas = [\n",
        "    [ #Progra III\n",
        "      [9,8,[8,9]], #C1\n",
        "      [10,6,9], #C2\n",
        "      [10,9,10] #C3\n",
        "    ], \n",
        "    [ #Estadistica\n",
        "      [5,7,10], #C1\n",
        "      [9,8,9],  #C2\n",
        "      [10,10,10]#C3\n",
        "    ],\n",
        "    [ #BD\n",
        "      [7,8,9],  #C1\n",
        "      [9,8,7],  #C2\n",
        "      [10,9,10],#C3\n",
        "    ], \n",
        "    [ #Ingles\n",
        "      [8,9,10], #C1\n",
        "      [9,10,9], #C2\n",
        "      [10,10,10]#C3\n",
        "    ],\n",
        "    [ #Circuito Digitales\n",
        "      [5,8,7], #C1\n",
        "      [8,7,9], #C2\n",
        "      [9,10,9] #C3\n",
        "    ]\n",
        "]\n",
        "import functools\n",
        "print( \"Lab1 de Estadistica en C1\", notas[1][0][0], \"NOta de Parcial C1 de Progra III: \",functools.reduce(lambda a,b: a+b, notas[0][0][2])/2 )"
      ],
      "metadata": {
        "colab": {
          "base_uri": "https://localhost:8080/"
        },
        "id": "C1FbAA8UuKMV",
        "outputId": "d2bd54d8-3248-4241-9785-866b84f4bebc"
      },
      "execution_count": null,
      "outputs": [
        {
          "output_type": "stream",
          "name": "stdout",
          "text": [
            "Lab1 de Estadistica en C1 5 NOta de Parcial C1 de Progra III:  8.5\n"
          ]
        }
      ]
    },
    {
      "cell_type": "code",
      "source": [
        "#diccionarios (JSON): Se declaran con llaves pero se usan con corchetes\n",
        "misNotas = {\n",
        "    \"Programa III\":{\n",
        "        \"C1\": {\n",
        "          \"Lab1\":9,\"Lab2\":8, \"Parcial\":{\"ParteI\":8, \"ParteII\":9}\n",
        "        },\n",
        "        \"C2\":{\n",
        "          \"Lab1\":10,\"Lab2\":6, \"Parcial\":9\n",
        "        },\n",
        "        \"C3\":{\n",
        "          \"Lab1\":10,\"Lab2\":6, \"Parcial\":9\n",
        "        }\n",
        "    },\"Estadistica\":{\n",
        "        \"C1\": {\n",
        "          \"Lab1\":5,\"Lab2\":7, \"Parcial\":10\n",
        "        },\n",
        "        \"C2\":{\n",
        "          \"Lab1\":9,\"Lab2\":8, \"Parcial\":9\n",
        "        },\n",
        "        \"C3\":{\n",
        "          \"Lab1\":10,\"Lab2\":10, \"Parcial\":10\n",
        "        }\n",
        "    }, \"BD\":{\n",
        "        \"C1\": {\n",
        "          \"Lab1\":7,\"Lab2\":8, \"Parcial\":9\n",
        "        },\n",
        "        \"C2\":{\n",
        "          \"Lab1\":9,\"Lab2\":8, \"Parcial\":7\n",
        "        },\n",
        "        \"C3\":{\n",
        "          \"Lab1\":10,\"Lab2\":9, \"Parcial\":10\n",
        "        }\n",
        "    }, \"Ingles\":{\n",
        "        \"C1\": {\n",
        "          \"Lab1\":8,\"Lab2\":9, \"Parcial\":10\n",
        "        },\n",
        "        \"C2\":{\n",
        "          \"Lab1\":9,\"Lab2\":10, \"Parcial\":9\n",
        "        },\n",
        "        \"C3\":{\n",
        "          \"Lab1\":10,\"Lab2\":10, \"Parcial\":10\n",
        "        }\n",
        "    }, \"Circuitos Digitales\":{\n",
        "        \"C1\": {\n",
        "          \"Lab1\":5,\"Lab2\":8, \"Parcial\":7\n",
        "        },\n",
        "        \"C2\":{\n",
        "          \"Lab1\":8,\"Lab2\":7, \"Parcial\":9\n",
        "        },\n",
        "        \"C3\":{\n",
        "          \"Lab1\":9,\"Lab2\":10, \"Parcial\":9\n",
        "        }\n",
        "    }\n",
        "}\n",
        "print(\"Lab1 en C1 de Estadistica: \", misNotas[\"Estadistica\"][\"C1\"][\"Lab1\"])\n",
        "misNotas[\"Estadistica\"][\"C1\"][\"Lab1\"] = float(input(\"Lab1: \"))\n",
        "print(\"Lab1 en C1 de Estadistica: \", misNotas[\"Estadistica\"][\"C1\"][\"Lab1\"])"
      ],
      "metadata": {
        "id": "5knMJ7E3yD6R",
        "outputId": "bdd0b390-18ae-4495-9efa-4f9d83f285fe",
        "colab": {
          "base_uri": "https://localhost:8080/"
        }
      },
      "execution_count": null,
      "outputs": [
        {
          "output_type": "stream",
          "name": "stdout",
          "text": [
            "Lab1 en C1 de Estadistica:  5\n",
            "Lab1: 10\n",
            "Lab1 en C1 de Estadistica:  10.0\n"
          ]
        }
      ]
    },
    {
      "cell_type": "code",
      "source": [
        "edad = int(input(\"Dime tu edad: \"))\n",
        "if(edad<=2):\n",
        "  print(\"Eres un bebe\")\n",
        "elif(edad<12):\n",
        "  print(\"Eres un niño\")\n",
        "elif( edad<18 ):\n",
        "  print(\"Eres un adolescente\")\n",
        "elif( edad<=55 ):\n",
        "  print(\"Eres un adulto joven\")\n",
        "elif(edad<=65):\n",
        "  print(\"Eres un Adulto\")\n",
        "elif(edad<=85):\n",
        "  print(\"Eres un adulto mayor\")\n",
        "elif(edad<=130):\n",
        "  print(\"Larga vidad...\")\n",
        "else:\n",
        "  print(\"Edad incorrecto\")\n",
        "print(\"Termino\")\n"
      ],
      "metadata": {
        "id": "ng_eep1bp153"
      },
      "execution_count": null,
      "outputs": []
    },
    {
      "cell_type": "code",
      "source": [
        "#hacer un programa que genera la tabla de multiplicar de x numero ingreso por el usuario\n",
        "nt = int(input(\"Dime la tabla de multiplicar a generar: \"))\n",
        "i=1\n",
        "while i<=10:\n",
        "  print( nt,\"X\",i,\"=\", nt*i )\n",
        "  i+=1"
      ],
      "metadata": {
        "id": "3AsFjN4sxS59"
      },
      "execution_count": null,
      "outputs": []
    },
    {
      "cell_type": "code",
      "source": [
        "#hacer un programa que genera la tabla de multiplicar de x numero ingreso por el usuario\n",
        "nt = int(input(\"Dime la tabla que deseas generar: \"))\n",
        "for i in range(1,11): #i<11\n",
        "  print(nt,\"X\",i,\"=\", nt*i)"
      ],
      "metadata": {
        "id": "1XkvX9KHx4Md"
      },
      "execution_count": null,
      "outputs": []
    },
    {
      "cell_type": "code",
      "source": [
        "#hacer un programa que genera la tabla de multiplicar de x numero ingreso por el usuario\n",
        "s = \"s\"\n",
        "while s==\"s\":\n",
        "  nt = int(input(\"Dime una tabla: \"))\n",
        "  for i in range(1, 11):\n",
        "    print(nt, \"X\",i,\"=\", nt*i)\n",
        "  s = input(\"Desea continua presione la tecla s, sino cualquier otra\")"
      ],
      "metadata": {
        "id": "sWq1zkEj0G4n"
      },
      "execution_count": null,
      "outputs": []
    },
    {
      "cell_type": "code",
      "source": [
        "#conversores\n",
        "etiquetas = [\n",
        "    0,\n",
        "    [\"Seleccione un moneda\", \"1. Dolar\", \"2. Colon SV\", \"3. Quetzal\", \"4. Lempira\", \"5. Cordoba\"],\n",
        "    [\"Selecione un almacenamiento\", \"1. MegaByte\", \"2. Bit\", \"3. Byte\", \"4. KiloByte\", \"5. GigaByte\"]\n",
        "    ,3,4,5]\n",
        "\n",
        "valores = [0,\n",
        "  [0,1, 8.75, 7.73, 24.49, 35.96],\n",
        "  [0,1, 8388608, 1048576, 1024, 0.0009765625]  \n",
        "]"
      ],
      "metadata": {
        "id": "HhGSeG402CUp"
      },
      "execution_count": null,
      "outputs": []
    },
    {
      "cell_type": "code",
      "source": [
        "def convertir(opcion, de, a, cantidad):\n",
        "  return valores[opcion][a] / valores[opcion][de] * cantidad"
      ],
      "metadata": {
        "id": "4k-wFmjc8bP4"
      },
      "execution_count": null,
      "outputs": []
    },
    {
      "cell_type": "code",
      "source": [
        "print(\"** MENU **\")\n",
        "print(\"1. Monedas\")\n",
        "print(\"2. Almacenamiento\")\n",
        "opcion = int(input(\"Opcion: \"))\n",
        "\n",
        "print( etiquetas[opcion] )\n",
        "de = int(input(\"DE: \"))\n",
        "a = int(input(\"A: \"))\n",
        "cantidad = float(input(\"Cantidad: \"))\n",
        "\n",
        "print( etiquetas[opcion][de], \" en \", etiquetas[opcion][a], \" equivale a: \", convertir(opcion, de, a, cantidad) )"
      ],
      "metadata": {
        "id": "rr3YulkL8zev",
        "outputId": "c08b3e6d-12c4-4a2e-e26c-a826d3c98f00",
        "colab": {
          "base_uri": "https://localhost:8080/"
        }
      },
      "execution_count": null,
      "outputs": [
        {
          "output_type": "stream",
          "name": "stdout",
          "text": [
            "** MENU **\n",
            "1. Monedas\n",
            "2. Almacenamiento\n",
            "Opcion: 2\n",
            "['Selecione un almacenamiento', '1. MegaByte', '2. Bit', '3. Byte', '4. KiloByte', '5. GigaByte']\n",
            "DE: 3\n",
            "A: 2\n",
            "Cantidad: 1\n",
            "3. Byte  en  2. Bit  equivale a:  8.0\n"
          ]
        }
      ]
    },
    {
      "cell_type": "code",
      "source": [
        "#POLIMORFISMO\n",
        "#el polimorfismo lo tiene el signo (objeto) +\n",
        "nombre = \"Luis Hernandez\"\n",
        "saludo = \"Hola \" + nombre\n",
        "print(saludo)\n",
        "\n",
        "num1 = 5\n",
        "num2 = 4.6\n",
        "resp = num1 + num2\n",
        "mensaje = \"Respuesta \"+ str(resp)\n",
        "print(mensaje)\n",
        "\n",
        "#VB\n",
        "#num1 = 5 #Asignacion\n",
        "#if num1=5: #comparacion\n",
        "#  print(\"La variable num1 es igual a 5\")"
      ],
      "metadata": {
        "id": "L8SdplpX3z44",
        "outputId": "e9870789-47a4-4c3a-c0e4-efed5a4fcc7e",
        "colab": {
          "base_uri": "https://localhost:8080/"
        }
      },
      "execution_count": null,
      "outputs": [
        {
          "output_type": "stream",
          "name": "stdout",
          "text": [
            "Hola Luis Hernandez\n",
            "Respuesta 9.6\n"
          ]
        }
      ]
    },
    {
      "cell_type": "code",
      "source": [
        "!pip --version\n",
        "!pip -V"
      ],
      "metadata": {
        "id": "xyyllyUT_hkS",
        "outputId": "9a632cfb-18d2-4721-f999-a41ab1f60af0",
        "colab": {
          "base_uri": "https://localhost:8080/"
        }
      },
      "execution_count": null,
      "outputs": [
        {
          "output_type": "stream",
          "name": "stdout",
          "text": [
            "pip 21.1.3 from /usr/local/lib/python3.7/dist-packages/pip (python 3.7)\n",
            "pip 21.1.3 from /usr/local/lib/python3.7/dist-packages/pip (python 3.7)\n"
          ]
        }
      ]
    },
    {
      "cell_type": "code",
      "source": [
        "lenguajes = [\"VB\",\"C#\",\"JAVA\",\"XML\",\"PYTHON\",\"PHP\",\"HTML\",\"JS\",\"CSS\"]\n",
        "#print( len(lenguajes), lenguajes.count(\"VB\") )\n",
        "print(lenguajes[2])\n",
        "#for lenguaje in lenguajes:\n",
        "#  print(lenguaje)"
      ],
      "metadata": {
        "id": "0Df_wwVi5agk",
        "outputId": "cf956cc5-3adb-480f-b0da-22008558a617",
        "colab": {
          "base_uri": "https://localhost:8080/"
        }
      },
      "execution_count": null,
      "outputs": [
        {
          "output_type": "stream",
          "name": "stdout",
          "text": [
            "JAVA\n"
          ]
        }
      ]
    },
    {
      "cell_type": "code",
      "source": [
        "lenguajes = {\n",
        "    \"fundamentos\":\"VB\",\n",
        "    \"programacion_i\"  : \"C#\",\n",
        "    \"programacion_ii\" : [\"JAVA\", \"XML\"],\n",
        "    \"programacion_iii\": [\"PYTHON\", \"HTML\", \"JS\", \"CSS\"],\n",
        "    \"programacion)iv\" : [\"PHP\", \"HTML\", \"JS\", \"CSS\"]\n",
        "}\n",
        "#print( len(lenguajes[\"programacion_iii\"]) )\n",
        "for key in lenguajes:\n",
        "  print( lenguajes[key], type(lenguajes[key]) )"
      ],
      "metadata": {
        "id": "DuOqHavN63JC",
        "outputId": "57353c66-fd6d-4c5b-d32a-ef7f4ff7d079",
        "colab": {
          "base_uri": "https://localhost:8080/"
        }
      },
      "execution_count": null,
      "outputs": [
        {
          "output_type": "stream",
          "name": "stdout",
          "text": [
            "VB <class 'str'>\n",
            "C# <class 'str'>\n",
            "['JAVA', 'XML'] <class 'list'>\n",
            "['PYTHON', 'HTML', 'JS', 'CSS'] <class 'list'>\n",
            "['PHP', 'HTML', 'JS', 'CSS'] <class 'list'>\n"
          ]
        }
      ]
    },
    {
      "cell_type": "code",
      "source": [
        "#Libreraria pandas\n",
        "import pandas as pd"
      ],
      "metadata": {
        "id": "WwI_E-OV7yoR"
      },
      "execution_count": null,
      "outputs": []
    },
    {
      "cell_type": "code",
      "source": [
        "lenguajes = pd.Series(\n",
        "    [\"VB\",\"C#\",\"JAVA\",\"XML\",\"PYTHON\",\"PHP\",\"HTML\",\"JS\",\"CSS\"],\n",
        "    index=[5,1,2,2,3,4,4,4,4]\n",
        ")\n",
        "print(lenguajes[2])"
      ],
      "metadata": {
        "id": "ScplxqIk8tYJ",
        "outputId": "eaaab349-5ebb-4672-fbd3-6b47fa4d9e61",
        "colab": {
          "base_uri": "https://localhost:8080/"
        }
      },
      "execution_count": null,
      "outputs": [
        {
          "output_type": "stream",
          "name": "stdout",
          "text": [
            "2    JAVA\n",
            "2     XML\n",
            "dtype: object\n"
          ]
        }
      ]
    },
    {
      "cell_type": "code",
      "source": [
        "lenguajes = {\n",
        "    \"fundamentos\":\"VB\",\n",
        "    1:\"C#\",\n",
        "    2:\"JAVA\"\n",
        "}\n",
        "pdLenguajes = pd.Series(lenguajes)\n",
        "print(pdLenguajes[\"fundamentos\"])"
      ],
      "metadata": {
        "id": "Hr-KhQ97-RuF",
        "outputId": "f3d18cae-7465-4be8-e2e2-8e773daf955f",
        "colab": {
          "base_uri": "https://localhost:8080/"
        }
      },
      "execution_count": null,
      "outputs": [
        {
          "output_type": "stream",
          "name": "stdout",
          "text": [
            "VB\n"
          ]
        }
      ]
    },
    {
      "cell_type": "code",
      "source": [
        "import pandas as pd\n",
        "import matplotlib.pyplot as plt"
      ],
      "metadata": {
        "id": "OXn9sS8i6QlD"
      },
      "execution_count": null,
      "outputs": []
    },
    {
      "cell_type": "code",
      "source": [
        "notas = pd.read_csv(\"/content/notas.csv\", sep=\";\")\n",
        "print(notas)"
      ],
      "metadata": {
        "id": "nGrVNGA97jcv"
      },
      "execution_count": null,
      "outputs": []
    },
    {
      "cell_type": "code",
      "source": [
        "sobresalientes = notas.loc[notas[\"notas\"]>=9]\n",
        "print(sobresalientes)\n",
        "\n",
        "sobresalientes.to_csv(\"/content/sobresalientes.csv\", sep=\";\")"
      ],
      "metadata": {
        "id": "YUv9Cw-k8TVj"
      },
      "execution_count": null,
      "outputs": []
    },
    {
      "cell_type": "code",
      "source": [
        "reprobados = notas.loc[notas[\"notas\"]<6]\n",
        "print(reprobados)\n",
        "\n",
        "reprobados.to_csv(\"/content/reprobados.csv\", sep=\";\")"
      ],
      "metadata": {
        "id": "TGsVIdQk-DKY"
      },
      "execution_count": null,
      "outputs": []
    },
    {
      "cell_type": "code",
      "source": [
        "count_reprobados = notas.loc[notas[\"notas\"]<6].agg({\"count\"})\n",
        "print(count_reprobados)\n",
        "\n",
        "count_reprobados.to_csv(\"/content/count_reprobados.csv\", sep=\";\")"
      ],
      "metadata": {
        "id": "b3kGCpMYA5B1"
      },
      "execution_count": null,
      "outputs": []
    },
    {
      "cell_type": "code",
      "source": [
        "tabla_sobresaliente = pd.crosstab(index=sobresalientes[\"notas\"], columns=\"fr\")\n",
        "plt.bar(sobresalientes[\"alumnos\"], sobresalientes[\"notas\"])\n",
        "plt.xlabel(\"Cantidad de estudiantes con buena nota\")\n",
        "plt.show()\n",
        "sobresalientes"
      ],
      "metadata": {
        "id": "19Gp2YwQCov0",
        "outputId": "3a43a73c-b08f-4ffc-fea6-48b709abd360",
        "colab": {
          "base_uri": "https://localhost:8080/",
          "height": 437
        }
      },
      "execution_count": null,
      "outputs": [
        {
          "output_type": "display_data",
          "data": {
            "text/plain": [
              "<Figure size 432x288 with 1 Axes>"
            ],
            "image/png": "[encoded data removed]"
          },
          "metadata": {
            "needs_background": "light"
          }
        },
        {
          "output_type": "execute_result",
          "data": {
            "text/plain": [
              "           alumnos  notas\n",
              "0  Julio Alexander   10.0\n",
              "1     Juan Carlos     9.5\n",
              "2     Ana Carolina    9.0\n",
              "3   Nathaly Milena   10.0"
            ],
            "text/html": [
              "\n",
              "  <div id=\"df-ca3087b0-7cc3-47e5-abce-ef5f2a9f6063\">\n",
              "    <div class=\"colab-df-container\">\n",
              "      <div>\n",
              "<style scoped>\n",
              "    .dataframe tbody tr th:only-of-type {\n",
              "        vertical-align: middle;\n",
              "    }\n",
              "\n",
              "    .dataframe tbody tr th {\n",
              "        vertical-align: top;\n",
              "    }\n",
              "\n",
              "    .dataframe thead th {\n",
              "        text-align: right;\n",
              "    }\n",
              "</style>\n",
              "<table border=\"1\" class=\"dataframe\">\n",
              "  <thead>\n",
              "    <tr style=\"text-align: right;\">\n",
              "      <th></th>\n",
              "      <th>alumnos</th>\n",
              "      <th>notas</th>\n",
              "    </tr>\n",
              "  </thead>\n",
              "  <tbody>\n",
              "    <tr>\n",
              "      <th>0</th>\n",
              "      <td>Julio Alexander</td>\n",
              "      <td>10.0</td>\n",
              "    </tr>\n",
              "    <tr>\n",
              "      <th>1</th>\n",
              "      <td>Juan Carlos</td>\n",
              "      <td>9.5</td>\n",
              "    </tr>\n",
              "    <tr>\n",
              "      <th>2</th>\n",
              "      <td>Ana Carolina</td>\n",
              "      <td>9.0</td>\n",
              "    </tr>\n",
              "    <tr>\n",
              "      <th>3</th>\n",
              "      <td>Nathaly Milena</td>\n",
              "      <td>10.0</td>\n",
              "    </tr>\n",
              "  </tbody>\n",
              "</table>\n",
              "</div>\n",
              "      <button class=\"colab-df-convert\" onclick=\"convertToInteractive('df-ca3087b0-7cc3-47e5-abce-ef5f2a9f6063')\"\n",
              "              title=\"Convert this dataframe to an interactive table.\"\n",
              "              style=\"display:none;\">\n",
              "        \n",
              "  <svg xmlns=\"http://www.w3.org/2000/svg\" height=\"24px\"viewBox=\"0 0 24 24\"\n",
              "       width=\"24px\">\n",
              "    <path d=\"M0 0h24v24H0V0z\" fill=\"none\"/>\n",
              "    <path d=\"M18.56 5.44l.94 2.06.94-2.06 2.06-.94-2.06-.94-.94-2.06-.94 2.06-2.06.94zm-11 1L8.5 8.5l.94-2.06 2.06-.94-2.06-.94L8.5 2.5l-.94 2.06-2.06.94zm10 10l.94 2.06.94-2.06 2.06-.94-2.06-.94-.94-2.06-.94 2.06-2.06.94z\"/><path d=\"M17.41 7.96l-1.37-1.37c-.4-.4-.92-.59-1.43-.59-.52 0-1.04.2-1.43.59L10.3 9.45l-7.72 7.72c-.78.78-.78 2.05 0 2.83L4 21.41c.39.39.9.59 1.41.59.51 0 1.02-.2 1.41-.59l7.78-7.78 2.81-2.81c.8-.78.8-2.07 0-2.86zM5.41 20L4 18.59l7.72-7.72 1.47 1.35L5.41 20z\"/>\n",
              "  </svg>\n",
              "      </button>\n",
              "      \n",
              "  <style>\n",
              "    .colab-df-container {\n",
              "      display:flex;\n",
              "      flex-wrap:wrap;\n",
              "      gap: 12px;\n",
              "    }\n",
              "\n",
              "    .colab-df-convert {\n",
              "      background-color: #E8F0FE;\n",
              "      border: none;\n",
              "      border-radius: 50%;\n",
              "      cursor: pointer;\n",
              "      display: none;\n",
              "      fill: #1967D2;\n",
              "      height: 32px;\n",
              "      padding: 0 0 0 0;\n",
              "      width: 32px;\n",
              "    }\n",
              "\n",
              "    .colab-df-convert:hover {\n",
              "      background-color: #E2EBFA;\n",
              "      box-shadow: 0px 1px 2px rgba(60, 64, 67, 0.3), 0px 1px 3px 1px rgba(60, 64, 67, 0.15);\n",
              "      fill: #174EA6;\n",
              "    }\n",
              "\n",
              "    [theme=dark] .colab-df-convert {\n",
              "      background-color: #3B4455;\n",
              "      fill: #D2E3FC;\n",
              "    }\n",
              "\n",
              "    [theme=dark] .colab-df-convert:hover {\n",
              "      background-color: #434B5C;\n",
              "      box-shadow: 0px 1px 3px 1px rgba(0, 0, 0, 0.15);\n",
              "      filter: drop-shadow(0px 1px 2px rgba(0, 0, 0, 0.3));\n",
              "      fill: #FFFFFF;\n",
              "    }\n",
              "  </style>\n",
              "\n",
              "      <script>\n",
              "        const buttonEl =\n",
              "          document.querySelector('#df-ca3087b0-7cc3-47e5-abce-ef5f2a9f6063 button.colab-df-convert');\n",
              "        buttonEl.style.display =\n",
              "          google.colab.kernel.accessAllowed ? 'block' : 'none';\n",
              "\n",
              "        async function convertToInteractive(key) {\n",
              "          const element = document.querySelector('#df-ca3087b0-7cc3-47e5-abce-ef5f2a9f6063');\n",
              "          const dataTable =\n",
              "            await google.colab.kernel.invokeFunction('convertToInteractive',\n",
              "                                                     [key], {});\n",
              "          if (!dataTable) return;\n",
              "\n",
              "          const docLinkHtml = 'Like what you see? Visit the ' +\n",
              "            '<a target=\"_blank\" href=https://colab.research.google.com/notebooks/data_table.ipynb>data table notebook</a>'\n",
              "            + ' to learn more about interactive tables.';\n",
              "          element.innerHTML = '';\n",
              "          dataTable['output_type'] = 'display_data';\n",
              "          await google.colab.output.renderOutput(dataTable, element);\n",
              "          const docLink = document.createElement('div');\n",
              "          docLink.innerHTML = docLinkHtml;\n",
              "          element.appendChild(docLink);\n",
              "        }\n",
              "      </script>\n",
              "    </div>\n",
              "  </div>\n",
              "  "
            ]
          },
          "metadata": {},
          "execution_count": 52
        }
      ]
    },
    {
      "cell_type": "code",
      "source": [
        "import tensorflow  as tf\n",
        "suma = tf.add(3,5).numpy()\n",
        "print(suma)"
      ],
      "metadata": {
        "colab": {
          "base_uri": "https://localhost:8080/"
        },
        "id": "gup6XPOFFcLR",
        "outputId": "76a3fd24-d0e2-49c1-e755-7caebf15c53b"
      },
      "execution_count": 3,
      "outputs": [
        {
          "output_type": "stream",
          "name": "stdout",
          "text": [
            "8\n"
          ]
        }
      ]
    },
    {
      "cell_type": "code",
      "source": [
        "#Carga del archivo en colab \n",
        "from google.colab import files\n",
        "unloaded = files.upload()"
      ],
      "metadata": {
        "colab": {
          "base_uri": "https://localhost:8080/",
          "height": 73
        },
        "id": "Rd-7z0Lh5wRR",
        "outputId": "7bac3225-0ed9-42eb-af59-d33c0623487f"
      },
      "execution_count": 3,
      "outputs": [
        {
          "output_type": "display_data",
          "data": {
            "text/plain": [
              "<IPython.core.display.HTML object>"
            ],
            "text/html": [
              "\n",
              "     <input type=\"file\" id=\"files-b8d1e1ac-c53e-4ba9-8a4b-149e1eece2e5\" name=\"files[]\" multiple disabled\n",
              "        style=\"border:none\" />\n",
              "     <output id=\"result-b8d1e1ac-c53e-4ba9-8a4b-149e1eece2e5\">\n",
              "      Upload widget is only available when the cell has been executed in the\n",
              "      current browser session. Please rerun this cell to enable.\n",
              "      </output>\n",
              "      <script>// Copyright 2017 Google LLC\n",
              "//\n",
              "// Licensed under the Apache License, Version 2.0 (the \"License\");\n",
              "// you may not use this file except in compliance with the License.\n",
              "// You may obtain a copy of the License at\n",
              "//\n",
              "//      http://www.apache.org/licenses/LICENSE-2.0\n",
              "//\n",
              "// Unless required by applicable law or agreed to in writing, software\n",
              "// distributed under the License is distributed on an \"AS IS\" BASIS,\n",
              "// WITHOUT WARRANTIES OR CONDITIONS OF ANY KIND, either express or implied.\n",
              "// See the License for the specific language governing permissions and\n",
              "// limitations under the License.\n",
              "\n",
              "/**\n",
              " * @fileoverview Helpers for google.colab Python module.\n",
              " */\n",
              "(function(scope) {\n",
              "function span(text, styleAttributes = {}) {\n",
              "  const element = document.createElement('span');\n",
              "  element.textContent = text;\n",
              "  for (const key of Object.keys(styleAttributes)) {\n",
              "    element.style[key] = styleAttributes[key];\n",
              "  }\n",
              "  return element;\n",
              "}\n",
              "\n",
              "// Max number of bytes which will be uploaded at a time.\n",
              "const MAX_PAYLOAD_SIZE = 100 * 1024;\n",
              "\n",
              "function _uploadFiles(inputId, outputId) {\n",
              "  const steps = uploadFilesStep(inputId, outputId);\n",
              "  const outputElement = document.getElementById(outputId);\n",
              "  // Cache steps on the outputElement to make it available for the next call\n",
              "  // to uploadFilesContinue from Python.\n",
              "  outputElement.steps = steps;\n",
              "\n",
              "  return _uploadFilesContinue(outputId);\n",
              "}\n",
              "\n",
              "// This is roughly an async generator (not supported in the browser yet),\n",
              "// where there are multiple asynchronous steps and the Python side is going\n",
              "// to poll for completion of each step.\n",
              "// This uses a Promise to block the python side on completion of each step,\n",
              "// then passes the result of the previous step as the input to the next step.\n",
              "function _uploadFilesContinue(outputId) {\n",
              "  const outputElement = document.getElementById(outputId);\n",
              "  const steps = outputElement.steps;\n",
              "\n",
              "  const next = steps.next(outputElement.lastPromiseValue);\n",
              "  return Promise.resolve(next.value.promise).then((value) => {\n",
              "    // Cache the last promise value to make it available to the next\n",
              "    // step of the generator.\n",
              "    outputElement.lastPromiseValue = value;\n",
              "    return next.value.response;\n",
              "  });\n",
              "}\n",
              "\n",
              "/**\n",
              " * Generator function which is called between each async step of the upload\n",
              " * process.\n",
              " * @param {string} inputId Element ID of the input file picker element.\n",
              " * @param {string} outputId Element ID of the output display.\n",
              " * @return {!Iterable<!Object>} Iterable of next steps.\n",
              " */\n",
              "function* uploadFilesStep(inputId, outputId) {\n",
              "  const inputElement = document.getElementById(inputId);\n",
              "  inputElement.disabled = false;\n",
              "\n",
              "  const outputElement = document.getElementById(outputId);\n",
              "  outputElement.innerHTML = '';\n",
              "\n",
              "  const pickedPromise = new Promise((resolve) => {\n",
              "    inputElement.addEventListener('change', (e) => {\n",
              "      resolve(e.target.files);\n",
              "    });\n",
              "  });\n",
              "\n",
              "  const cancel = document.createElement('button');\n",
              "  inputElement.parentElement.appendChild(cancel);\n",
              "  cancel.textContent = 'Cancel upload';\n",
              "  const cancelPromise = new Promise((resolve) => {\n",
              "    cancel.onclick = () => {\n",
              "      resolve(null);\n",
              "    };\n",
              "  });\n",
              "\n",
              "  // Wait for the user to pick the files.\n",
              "  const files = yield {\n",
              "    promise: Promise.race([pickedPromise, cancelPromise]),\n",
              "    response: {\n",
              "      action: 'starting',\n",
              "    }\n",
              "  };\n",
              "\n",
              "  cancel.remove();\n",
              "\n",
              "  // Disable the input element since further picks are not allowed.\n",
              "  inputElement.disabled = true;\n",
              "\n",
              "  if (!files) {\n",
              "    return {\n",
              "      response: {\n",
              "        action: 'complete',\n",
              "      }\n",
              "    };\n",
              "  }\n",
              "\n",
              "  for (const file of files) {\n",
              "    const li = document.createElement('li');\n",
              "    li.append(span(file.name, {fontWeight: 'bold'}));\n",
              "    li.append(span(\n",
              "        `(${file.type || 'n/a'}) - ${file.size} bytes, ` +\n",
              "        `last modified: ${\n",
              "            file.lastModifiedDate ? file.lastModifiedDate.toLocaleDateString() :\n",
              "                                    'n/a'} - `));\n",
              "    const percent = span('0% done');\n",
              "    li.appendChild(percent);\n",
              "\n",
              "    outputElement.appendChild(li);\n",
              "\n",
              "    const fileDataPromise = new Promise((resolve) => {\n",
              "      const reader = new FileReader();\n",
              "      reader.onload = (e) => {\n",
              "        resolve(e.target.result);\n",
              "      };\n",
              "      reader.readAsArrayBuffer(file);\n",
              "    });\n",
              "    // Wait for the data to be ready.\n",
              "    let fileData = yield {\n",
              "      promise: fileDataPromise,\n",
              "      response: {\n",
              "        action: 'continue',\n",
              "      }\n",
              "    };\n",
              "\n",
              "    // Use a chunked sending to avoid message size limits. See b/62115660.\n",
              "    let position = 0;\n",
              "    do {\n",
              "      const length = Math.min(fileData.byteLength - position, MAX_PAYLOAD_SIZE);\n",
              "      const chunk = new Uint8Array(fileData, position, length);\n",
              "      position += length;\n",
              "\n",
              "      const base64 = btoa(String.fromCharCode.apply(null, chunk));\n",
              "      yield {\n",
              "        response: {\n",
              "          action: 'append',\n",
              "          file: file.name,\n",
              "          data: base64,\n",
              "        },\n",
              "      };\n",
              "\n",
              "      let percentDone = fileData.byteLength === 0 ?\n",
              "          100 :\n",
              "          Math.round((position / fileData.byteLength) * 100);\n",
              "      percent.textContent = `${percentDone}% done`;\n",
              "\n",
              "    } while (position < fileData.byteLength);\n",
              "  }\n",
              "\n",
              "  // All done.\n",
              "  yield {\n",
              "    response: {\n",
              "      action: 'complete',\n",
              "    }\n",
              "  };\n",
              "}\n",
              "\n",
              "scope.google = scope.google || {};\n",
              "scope.google.colab = scope.google.colab || {};\n",
              "scope.google.colab._files = {\n",
              "  _uploadFiles,\n",
              "  _uploadFilesContinue,\n",
              "};\n",
              "})(self);\n",
              "</script> "
            ]
          },
          "metadata": {}
        },
        {
          "output_type": "stream",
          "name": "stdout",
          "text": [
            "Saving temperatura.csv to temperatura.csv\n"
          ]
        }
      ]
    },
    {
      "cell_type": "code",
      "source": [
        "#importar las librerias \n",
        "import tensorflow  as tf\n",
        "import matplotlib.pyplot as plt\n",
        "import pandas as pd\n",
        "import seaborn as sb \n",
        "\n"
      ],
      "metadata": {
        "id": "AxtZx5j4-8uK"
      },
      "execution_count": 1,
      "outputs": []
    },
    {
      "cell_type": "code",
      "source": [
        "temperatura = pd.read_csv(\"/content/temperatura.csv\", sep=';')\n",
        "print(temperatura)"
      ],
      "metadata": {
        "colab": {
          "base_uri": "https://localhost:8080/"
        },
        "id": "MaJZrpEN_cmu",
        "outputId": "c47de2f8-6b07-4d9e-fe6f-fa49d4552359"
      },
      "execution_count": 4,
      "outputs": [
        {
          "output_type": "stream",
          "name": "stdout",
          "text": [
            "     c      f\n",
            "0  -40  -40.0\n",
            "1  -30  -22.0\n",
            "2  -20   -4.0\n",
            "3  -10   14.0\n",
            "4   -5   23.0\n",
            "5   -4   24.8\n",
            "6   -3   26.6\n",
            "7   -2   30.2\n",
            "8   -1   32.0\n",
            "9    0   33.8\n",
            "10   1   35.6\n",
            "11   2   37.4\n",
            "12   3   39.2\n",
            "13   4   41.0\n",
            "14   5   50.0\n",
            "15  10   68.0\n",
            "16  20   82.0\n",
            "17  30   40.0\n",
            "18  40  104.0\n"
          ]
        }
      ]
    },
    {
      "cell_type": "code",
      "source": [
        "#datos de  entrenamiento \n",
        "c= temperatura[\"c\"]\n",
        "f= temperatura[\"f\"]\n",
        "#graficar los datos de entrenamiento\n",
        "sb.scatterplot(c,f)\n",
        "plt.show()"
      ],
      "metadata": {
        "colab": {
          "base_uri": "https://localhost:8080/",
          "height": 336
        },
        "id": "sPpHbQEkAe22",
        "outputId": "540344df-bf03-4b64-a443-fbc8bc7b1ee2"
      },
      "execution_count": 5,
      "outputs": [
        {
          "output_type": "stream",
          "name": "stderr",
          "text": [
            "/usr/local/lib/python3.7/dist-packages/seaborn/_decorators.py:43: FutureWarning: Pass the following variables as keyword args: x, y. From version 0.12, the only valid positional argument will be `data`, and passing other arguments without an explicit keyword will result in an error or misinterpretation.\n",
            "  FutureWarning\n"
          ]
        },
        {
          "output_type": "display_data",
          "data": {
            "text/plain": [
              "<Figure size 432x288 with 1 Axes>"
            ],
            "image/png": "[encoded data removed]"
          },
          "metadata": {
            "needs_background": "light"
          }
        }
      ]
    },
    {
      "cell_type": "code",
      "source": [
        "#modelo de entrenamkento con capa oculta \n",
        "modelo = tf.keras.Sequential()\n",
        "modelo.add (tf.keras.layers.Dense(units=1, input_shape=[1]))"
      ],
      "metadata": {
        "id": "zjjyB6FUBdIf"
      },
      "execution_count": 6,
      "outputs": []
    },
    {
      "cell_type": "code",
      "source": [
        "#utilizacion de obtimizador \n",
        "modelo.compile(optimizer=tf.keras.optimizers.Adam(1), loss=\"mean_squared_error\")\n"
      ],
      "metadata": {
        "id": "LmAb_14wCRdO"
      },
      "execution_count": 17,
      "outputs": []
    },
    {
      "cell_type": "code",
      "source": [
        "#entramineto de modelo\n",
        "epocas = modelo.fit(c, f, epochs=150, verbose=0)"
      ],
      "metadata": {
        "id": "S2ME8FDXCrmf"
      },
      "execution_count": 28,
      "outputs": []
    },
    {
      "cell_type": "code",
      "source": [
        "resp= modelo.predict([80.6])\n",
        "print(resp)"
      ],
      "metadata": {
        "colab": {
          "base_uri": "https://localhost:8080/"
        },
        "id": "vjppfXNpHeYS",
        "outputId": "18737711-ebca-4313-f4ca-4f8380ae750a"
      },
      "execution_count": 29,
      "outputs": [
        {
          "output_type": "stream",
          "name": "stdout",
          "text": [
            "[[166.09418]]\n"
          ]
        }
      ]
    }
  ],
  "metadata": {
    "colab": {
      "collapsed_sections": [],
      "provenance": [],
      "include_colab_link": true
    },
    "kernelspec": {
      "display_name": "Python 3",
      "name": "python3"
    }
  },
  "nbformat": 4,
  "nbformat_minor": 0
}