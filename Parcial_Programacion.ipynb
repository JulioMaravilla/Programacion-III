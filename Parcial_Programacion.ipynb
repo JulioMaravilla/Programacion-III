{
  "nbformat": 4,
  "nbformat_minor": 0,
  "metadata": {
    "colab": {
      "provenance": [],
      "collapsed_sections": [],
      "authorship_tag": "ABX9TyPc+Vag0WC78hhb4eXxxD/s",
      "include_colab_link": true
    },
    "kernelspec": {
      "name": "python3",
      "display_name": "Python 3"
    },
    "language_info": {
      "name": "python"
    }
  },
  "cells": [
    {
      "cell_type": "markdown",
      "metadata": {
        "id": "view-in-github",
        "colab_type": "text"
      },
      "source": [
        "<a href=\"https://colab.research.google.com/github/JulioMaravilla/Programacion-III/blob/main/Parcial_Programacion.ipynb\" target=\"_parent\"><img src=\"https://colab.research.google.com/assets/colab-badge.svg\" alt=\"Open In Colab\"/></a>"
      ]
    },
    {
      "cell_type": "markdown",
      "source": [
        "Integrantes del Equipo\n",
        "\n",
        "* Roberto Fransisco Reyes Palomo__USIS032421\n",
        "* Julio Alexander Maravilla Umañana_USIS018420\n",
        "* Joan Steven Gomez Contreras___USIS014921\n",
        "* Miguel Alonso Portillo Quinteros__USIS936521\n",
        "\n",
        "\n",
        "\n",
        "\n"
      ],
      "metadata": {
        "id": "g9QSVP6MIi9s"
      }
    },
    {
      "cell_type": "markdown",
      "source": [
        "# Calculo de AFP, ISSS, RENTA, VACACIONES Y AGINALDO\n"
      ],
      "metadata": {
        "id": "FJer6B1c7FM-"
      }
    },
    {
      "cell_type": "markdown",
      "source": [
        "Calculo de afp, isss, renta, aginaldo y vacaciones para empleado"
      ],
      "metadata": {
        "id": "bf_EKouIe6rm"
      }
    },
    {
      "cell_type": "code",
      "source": [
        "from IPython.utils.text import os\n",
        "print(\"ingrese el sueldo generado en el mes:\")\n",
        "sueldo=float(input(\"su salario ingresado es: \"))\n",
        "vacaciones = (sueldo/2)*0.30\n",
        "salario = vacaciones + sueldo\n",
        "ISSS= sueldo*0.03\n",
        "AFP= sueldo*0.0625\n",
        "descuento=(ISSS+AFP) \n",
        "salario_liquido= sueldo-(ISSS+AFP) \n",
        "print(\"su descuento de AFP es: \",AFP,\"dolares\",\"Su decuento de ISSS es:\",ISSS,)\n",
        "\n",
        "if (salario_liquido<=472.00): \n",
        "  print(\"su salario neto es: \",salario_liquido)\n",
        "  print(\"libre de Impuestos\")\n",
        "elif(salario_liquido<=895.24):\n",
        "    tramoII=salario_liquido*0.10\n",
        "    salario_sobre_renta = (salario_liquido-tramoII)\n",
        "    print(\"Su Impuesto a pagar es de: \",tramoII)\n",
        "    print(\"su salario es: \",salario_sobre_renta)\n",
        "elif(salario_liquido<=2038.10):\n",
        "   tramoIII=salario_liquido*0.20\n",
        "   salario_sobre_renta = (salario_liquido-tramoIII)\n",
        "   print(\"Su impuesto a pagar es de:\",tramoIII)\n",
        "   print(\"su salario es: \",salario_sobre_renta)\n",
        "elif(salario_liquido>=2038.11):\n",
        "    tramoIV=salario_liquido*0.30\n",
        "    salario_sobre_renta = (salario_liquido-tramoIV)\n",
        "    print(\"Su Impuesto a pagar es: \",tramoIV)\n",
        "    print(\"su salario es: \",salario_sobre_renta)\n",
        "else:\n",
        "  print(\"libre de impuestos\")\n",
        "\n",
        "print(\"selecccione las siguiente oipciones si desea calcular su salario mas vacaciones y susdeduciones\")\n",
        "print(\"1.deseo calcular mi salario y mis vacaciones\")\n",
        "print(\"2.no deseo calcular mi salario y miscaciones\")\n",
        "\n",
        "respuesta = int(input(\"ingrese la opcion una opcion: \"))\n",
        "\n",
        "if(respuesta== 1):\n",
        "  vacaciones = (sueldo/2)*0.30\n",
        "  salario = vacaciones + sueldo\n",
        "  ISSS= salario*0.03\n",
        "  AFP= salario*0.0625\n",
        "  descuento=(ISSS+AFP) \n",
        "  sal_liquido= salario-(ISSS+AFP) \n",
        "  print(\"vacaciones pagadas es de: \",vacaciones, \"el salario mas vacaciones bruto es: \", salario) \n",
        "  print(\"su descuento de AFP es: \",AFP,\"Su decuento de ISSS es:\",ISSS)\n",
        "\n",
        "  if (sal_liquido<=472.00): \n",
        "    print(\"su salario neto es: \",sal_liquido)\n",
        "    print(\"libre de Impuestos\")\n",
        "  elif(sal_liquido<=895.24):\n",
        "    tramoII=sal_liquido*0.10\n",
        "    salario_sobre_renta = (sal_liquido-tramoII)\n",
        "    print(\"Su Impuesto a pagar es de: \",tramoII)\n",
        "    print(\"su salario es: \",salario_sobre_renta)\n",
        "  elif(salario_liquido<=2038.10):\n",
        "    tramoIII=sal_liquido*0.20\n",
        "    salario_sobre_renta = (sal_liquido-tramoIII)\n",
        "    print(\"Su impuesto a pagar es de:\",tramoIII)\n",
        "    print(\"su salario es: \",salario_sobre_renta)\n",
        "  elif(salario_liquido>=2038.11):\n",
        "    tramoIV=sal_liquido*0.30\n",
        "    salario_sobre_renta = (sal_liquido-tramoIV)\n",
        "    print(\"Su Impuesto a pagar es: \",tramoIV)\n",
        "    print(\"su salario es: \",salario_sobre_renta)\n",
        "  else:\n",
        "   print(\"libre de impuestos\")\n",
        "\n",
        "else:\n",
        "  print(\"proceso no selecionado\")\n",
        "\n",
        "print(\"si desea calcular su aguinaldo eliga una de las siguientes opciones\")\n",
        "print(\"1.calcular aguinaldo si ha trabjados menos de un año en la emprese\")\n",
        "print(\"2.calcular aguinaldo si ha trabjado 1 años o mas en la empresa\")\n",
        "opcion=int(input(\"ingrese la opcion: \"))\n",
        "if(opcion==1):\n",
        "  sueldo_generado=float(input(\"ingrese su salario: \"))\n",
        "  dias=int(input(\"ingrese la cantidad de dias trabajados: \"))\n",
        "  aguinaldo=round(sueldo_generado/30*15/365*dias,2)\n",
        "  print(\"su aguinaldo proporcional es: \", aguinaldo, \"dolares\")\n",
        "elif(opcion==2):\n",
        "  sueldo_generado=float(input(\"ingrese su salario\"))\n",
        "  años=int(input(\"ingrese la cantidad de años en los que trabajo en la empresa\"))\n",
        "  if(años<=3):\n",
        "    aguinaldo = round(sueldo_generado/30*15)\n",
        "    print(\"su aguinaldo es de: \", aguinaldo, \"dolares\" )\n",
        "  elif(años<=10):\n",
        "    aguinaldo = round(sueldo_generado/30*19)\n",
        "  elif(años>10):\n",
        "      aguinaldo = round(sueldo_generado/30*21)\n",
        "else:\n",
        "  print(\"selecciono no calcular aguinaldo\")\n"
      ],
      "metadata": {
        "colab": {
          "base_uri": "https://localhost:8080/"
        },
        "id": "RazMkyoo7XpJ",
        "outputId": "22a97f4f-77db-4fa0-9fa4-d957d8bc73b9"
      },
      "execution_count": null,
      "outputs": [
        {
          "output_type": "stream",
          "name": "stdout",
          "text": [
            "ingrese el sueldo generado en el mes:\n",
            "su salario ingresado es: 500\n",
            "su descuento de AFP es:  31.25 dolares Su decuento de ISSS es: 15.0\n",
            "su salario neto es:  453.75\n",
            "libre de Impuestos\n",
            "selecccione las siguiente oipciones si desea calcular su salario mas vacaciones y susdeduciones\n",
            "1.deseo calcular mi salario y mis vacaciones\n",
            "2.no deseo calcular mi salario y miscaciones\n",
            "ingrese la opcion una opcion: 2\n",
            "proceso no selecionado\n",
            "si desea calcular su aguinaldo eliga una de las siguientes opciones\n",
            "1.calcular aguinaldo si ha trabjados menos de un año en la emprese\n",
            "2.calcular aguinaldo si ha trabjado 1 años o mas en la empresa\n",
            "ingrese la opcion: 2\n",
            "ingrese su salario500\n",
            "ingrese la cantidad de años en los que trabajo en la empresa3\n",
            "su aguinaldo es de:  250 dolares\n"
          ]
        }
      ]
    },
    {
      "cell_type": "markdown",
      "source": [
        "#calculo de isss, afp, renta para empresas aguinaldo y sueldo de vacaciones\n"
      ],
      "metadata": {
        "id": "H77y3L5WATZT"
      }
    },
    {
      "cell_type": "code",
      "source": [
        "print(\"calculo de APF y ISSS para empresas: \")\n",
        "pago=float(input(\"pago de salario sin retenciones: \"))\n",
        "AFP= round(pago*0.0775,2)\n",
        "ISSS= round(pago*0.0750,2)\n",
        "print(\"su descuento de AFP es: \", AFP)\n",
        "print(\"su descuento de ISSS es:\", ISSS)\n",
        "\n",
        "print(\"calculo de pago de vacaciones\")\n",
        "vacaciones=pago/2*0.30\n",
        "print(\"el pago de vacaciones es de: \", vacaciones)\n",
        "\n",
        "print(\"calculo de agui1naldo\")\n",
        "print(\"1.calculo de aguinal segun meses trabajados\")\n",
        "print(\"2.Calculo de aguinaldo segun años trabajados\")\n",
        "opcion=int(input(\"ingrese la opcion: \"))\n",
        "if(opcion==1):\n",
        "  pago_de_sueldo=float(input(\"ingrese el salario a pagar: \"))\n",
        "  dias=int(input(\"ingrese la cantidad de dias trabajados: \"))\n",
        "  aguinaldo=round(pago_de_sueldo/30*15/365*dias,2)\n",
        "  print(\"su aguinaldo proporcional es: \", aguinaldo, \"dolares\")\n",
        "elif(opcion==2):\n",
        "  pago_de_sueldo=float(input(\"ingrese el salario a pagar:\"))\n",
        "  años=int(input(\"ingrese la cantidad de años en los que trabajo en la empresa: \"))\n",
        "  if(años<=3):\n",
        "    aguinaldo = round(pago_de_sueldo/30*15)\n",
        "    print(\"su aguinaldo es de: \", aguinaldo, \"dolares\" )\n",
        "  elif(años<=10):\n",
        "    aguinaldo = round(pago_de_sueldo/30*19)\n",
        "  elif(años>10):\n",
        "      aguinaldo = round(pago_de_sueldo/30*21)\n",
        "else:\n",
        "  print(\"selecciono no calcular aguinaldo\")\n",
        "\n",
        "\n"
      ],
      "metadata": {
        "colab": {
          "base_uri": "https://localhost:8080/"
        },
        "id": "0N0jfvIVAklM",
        "outputId": "0a8210be-15f4-44d0-805a-26e2667b3cd5"
      },
      "execution_count": null,
      "outputs": [
        {
          "output_type": "stream",
          "name": "stdout",
          "text": [
            "calculo de APF y ISSS para empresas: \n",
            "pago de salario sin retenciones: 500\n",
            "su descuento de AFP es:  38.75\n",
            "su descuento de ISSS es: 37.5\n",
            "calculo de pago de vacaciones\n",
            "el pago de vacaciones es de:  75.0\n",
            "calculo de agui1naldo\n",
            "1.calculo de aguinal segun meses trabajados\n",
            "2.Calculo de aguinaldo segun años trabajados\n",
            "ingrese la opcion: 2\n",
            "ingrese el salario a pagar:500\n",
            "ingrese la cantidad de años en los que trabajo en la empresa2\n",
            "su aguinaldo es de:  250 dolares\n"
          ]
        }
      ]
    },
    {
      "cell_type": "markdown",
      "source": [
        "#Calculo de actividad economica de una empresa\n"
      ],
      "metadata": {
        "id": "OZDo4RXZem0N"
      }
    },
    {
      "cell_type": "code",
      "source": [
        "print(\"igrese la actividad economica a calcular\")\n",
        "cantidad= float(input(\"Su atividad economica fue de: \"))\n",
        "\n",
        "if(cantidad<=500.00):\n",
        "  impusto =round((cantidad-0.01)/1000+1.5,2)\n",
        "  print(\"su impuesto a pagar es\", impusto, \"dolares\")\n",
        "elif(cantidad<=1000.00):\n",
        "  impusto =round(((cantidad-500.01)/1000*3)+1.5,2)\n",
        "  print(\"su impuesto a pagar es\",impusto, \"dolares\")\n",
        "elif(cantidad<=2000.00):\n",
        "  impusto =round(((cantidad-1000.01)/1000*3)+3,2)\n",
        "  print(\"su impuesto a pagar es\",impusto, \"dolares\")\n",
        "elif(cantidad<=3000.00):\n",
        "  impusto =round(((cantidad-2000.01)/1000*3)+6,2)\n",
        "  print(\"su impuesto a pagar es\",impusto, \"dolares\")\n",
        "elif(cantidad<=6000.00):\n",
        "  impusto =round(((cantidad-3000.01)/1000*2)+9,2)\n",
        "  print(\"su impuesto a pagar es\",impusto, \"dolares\")\n",
        "elif(cantidad<=18000):\n",
        "  impusto =round(((cantidad-8000.01)/1000*2)+15,2)\n",
        "  print(\"su impuesto a pagar es\",impusto, \"dolares\")\n",
        "elif(cantidad<=30000):\n",
        "  impusto =round(((cantidad-18000.01)/1000*2)+39,2)\n",
        "  print(\"su impuesto a pagar es\",impusto, \"dolares\")\n",
        "elif(cantidad<=60000):\n",
        "  impusto =round(((cantidad-30000.01)/1000*1)+63,2)\n",
        "  print(\"su impuesto a pagar es\",impusto, \"dolares\")\n",
        "elif(cantidad<=100000):\n",
        "  impusto =round(((cantidad-60000.01)/1000*0.8)+93,2)\n",
        "  print(\"su impuesto a pagar es\",impusto, \"dolares\")\n",
        "elif(cantidad<=200000):\n",
        "  impusto =round(((cantidad-100000.01)/1000*0.7)+125,2)\n",
        "  print(\"su impuesto a pagar es\",impusto, \"dolares\")\n",
        "elif(cantidad<=300000):\n",
        "  impusto =round(((cantidad-200000.01)/1000*0.6)+195,2)\n",
        "  print(\"su impuesto a pagar es\",impusto, \"dolares\")\n",
        "elif(cantidad<=400000):\n",
        "  impusto =round(((cantidad-300000.01)/1000*0.45)+255,2)\n",
        "  print(\"su impuesto a pagar es\",impusto, \"dolares\")\n",
        "elif(cantidad<=500000):\n",
        "  impusto =round(((cantidad-400000.01)/1000*0.4)+300,2)\n",
        "  print(\"su impuesto a pagar es\",impusto, \"dolares\")\n",
        "elif(cantidad<=1000000):\n",
        "  impusto =round(((cantidad-500000.01)/1000*0.30)+340,2)\n",
        "  print(\"su impuesto a pagar es\",impusto, \"dolares\")\n",
        "elif(cantidad<=99999999):\n",
        "  impusto =round(((cantidad-1000000.01)/1000*0.18)+490,2)\n",
        "  print(\"su impuesto a pagar es\",impusto, \"dolares\")\n",
        "else:\n",
        "  print(\"la cacntidad ingresada esta fuera de esta tabla\")\n"
      ],
      "metadata": {
        "colab": {
          "base_uri": "https://localhost:8080/"
        },
        "id": "gU4tsQ9oDYRB",
        "outputId": "4490841e-ad73-44b0-ed95-93489eef525f"
      },
      "execution_count": null,
      "outputs": [
        {
          "output_type": "stream",
          "name": "stdout",
          "text": [
            "igrese la actividad economica a calcular\n",
            "Su atividad economica fue de: 20000\n",
            "su impuesto a pagar es 43.0 dolares\n"
          ]
        }
      ]
    },
    {
      "cell_type": "markdown",
      "source": [
        "#Conversiones de areas"
      ],
      "metadata": {
        "id": "4jaenR6zG293"
      }
    },
    {
      "cell_type": "code",
      "source": [
        "#CONVERSOR DE AREA___________________________________________________________________________\n",
        "#1___________________________________________________________________________\n",
        "def pies2_metros2 ():\n",
        "  pies2 = int(input(\"Ingrese la cantidad de pies cuadrados a convertir \"))\n",
        "  metros2 = pies2 / 10.764\n",
        "  print (pies2,\"Pies^2 equivalen a \",metros2,\"metros^2.\")\n",
        "#2___________________________________________________________________________\n",
        "def metros2_hectareas ():\n",
        "  metros2 = int(input(\"Ingrese la cantidad de metros cuadrados a convertir \"))\n",
        "  hectareas = metros2 / 10000\n",
        "  print (metros2,\"metros^2 equivalen a \",hectareas,\"hectareas.\")\n",
        "#3___________________________________________________________________________\n",
        "def metros2_pies2 ():\n",
        "  metros2 = int(input(\"Ingrese la cantidad de metros cuadrados a convertir \"))\n",
        "  pies2 = metros2 * 10.764\n",
        "  print (metros2,\"metros^2 equivalen a \",pies2,\"pies^2.\")\n",
        "#4___________________________________________________________________________\n",
        "def yardas2_pies2 ():\n",
        "  yardas2 = int(input(\"Ingrese la cantidad de yardas cuadradas a convertir \"))\n",
        "  pies2 = yardas2 * 9\n",
        "  print (yardas2,\"yardas^2 equivalen a \",pies2,\"pies^2.\")\n",
        "#5___________________________________________________________________________\n",
        "def hectareas_yardas2 ():\n",
        "  hectareas = int(input(\"Ingrese la cantidad de hectareas a convertir \"))\n",
        "  yardas2 = hectareas * 11960\n",
        "  print (hectareas,\"hectareas equivalen a \",yardas2,\"yardas^2.\")\n",
        "#6___________________________________________________________________________\n",
        "def manzanas_varas2 ():\n",
        "  manzanas = int(input(\"Ingrese la cantidad de manzanas a convertir \"))\n",
        "  varas2 = manzanas * 0.84\n",
        "  print (manzanas,\"manzanas equivalen a \",varas2,\"varas^2.\")\n",
        "#7___________________________________________________________________________\n",
        "def tarea_metro2 ():\n",
        "  tarea = int(input(\"Ingrese la cantidad de tareas a convertir \"))\n",
        "  metro2 = tarea * 628.86\n",
        "  print (tarea,\"tareas equivalen a \",metro2,\"metros^2.\")\n",
        "#8___________________________________________________________________________\n",
        "def metros2_varas2 ():\n",
        "  metros2 = int(input(\"Ingrese la cantidad de metros cuadrados a convertir \"))\n",
        "  varas2 = metros2 / 0.7\n",
        "  print (metros2,\"metros2 equivalen a \",varas2,\"varas^2.\")\n",
        "#9___________________________________________________________________________\n",
        "def tarea_hectarea ():\n",
        "  tarea = int(input(\"Ingrese la cantidad de tareas a convertir \"))\n",
        "  hectareas = tarea * 0.06288\n",
        "  print (tarea,\"tareas equivalen a \",hectareas,\"hectareas.\")\n",
        "#10___________________________________________________________________________\n",
        "def tarea_manzana ():\n",
        "  tarea = int(input(\"Ingrese la cantidad de tareas a convertir \"))\n",
        "  manzana= tarea * 0.06288\n",
        "  print (tarea,\"tareas equivalen a \",manzana,\"manzanas.\")\n",
        "\n",
        "#MENU___________________________________________________________________________\n",
        "opcion = int( input(\"\\n***MENU***\\n\\n\"\n",
        "                    \"1. Pies^2 a Metros^2 \\n\"\n",
        "                    \"2. Metros^2 a Hectareas \\n\"\n",
        "                    \"3. Metros^2 a Pies^2 \\n\"\n",
        "                    \"4. Yardas^2 a Pies^2 \\n\"\n",
        "                    \"5. Hectareas a Yardas^2 \\n\"\n",
        "                    \"6. Manzanas a Varas^2 \\n\"\n",
        "                    \"7. Tareas a Metros^2 \\n\"\n",
        "                    \"8. Metros^2 a Varas^2 \\n\"\n",
        "                    \"9. Tareas a Hectareas \\n\"\n",
        "                    \"10. Tareas a Manzanas \\n\"\n",
        "                    \"Ingrese al opcion que desea \\n\\n\"))\n",
        "#DICCIONARIO___________________________________________________________________________\n",
        "Diccionario = {1:pies2_metros2,\n",
        "               2:metros2_hectareas,\n",
        "               3:metros2_pies2,\n",
        "               4:yardas2_pies2,\n",
        "               5:hectareas_yardas2,\n",
        "               6:manzanas_varas2,\n",
        "               7:tarea_metro2,\n",
        "               8:metros2_varas2,\n",
        "               9:tarea_hectarea,\n",
        "               10:tarea_manzana}\n",
        "\n",
        "try:\n",
        "  Diccionario[opcion]()\n",
        "except:\n",
        "  print(\"No ha elegido una opcion valida. \")"
      ],
      "metadata": {
        "id": "36U6vAizG7Wf"
      },
      "execution_count": null,
      "outputs": []
    },
    {
      "cell_type": "markdown",
      "source": [
        "#cajero automatico"
      ],
      "metadata": {
        "id": "TsTdOJ7XG9Il"
      }
    },
    {
      "cell_type": "code",
      "source": [
        "#CAJERO AUTOMATICO\n",
        "\n",
        "#Comentario\n",
        "retiro = float(input(\"Ingrese la cantidad a retirar: \"))\n",
        "#_________________Billetes de 100______________________\n",
        "retiro100 = int(retiro // 100)\n",
        "queda100 = retiro % 100\n",
        "#_________________Billetes de 50_______________________\n",
        "retiro50 = int(queda100 // 50)\n",
        "queda50 = queda100 % 50\n",
        "#_________________Billetes de 20_______________________\n",
        "retiro20 = int(queda50 // 20)\n",
        "queda20 = queda50 % 20\n",
        "#_________________Billetes de 10_______________________\n",
        "retiro10 = int(queda20 // 10)\n",
        "queda10 = queda20 % 10\n",
        "#_________________Billetes de 5________________________\n",
        "retiro5 = int(queda10 // 5)\n",
        "queda5 = queda10 % 5\n",
        "#_________________Billetes de 1________________________\n",
        "retiro1 = int(queda5 // 1)\n",
        "queda1 = queda5 % 1\n",
        "#_________________Monedas de 0.25______________________\n",
        "retiro025 = int(queda1 // 0.25)\n",
        "queda025 = queda1 % 0.25\n",
        "#8________________Monedas de 0.10______________________\n",
        "retiro010 = int(queda025 // 0.10)\n",
        "queda010 = queda025 % 0.10\n",
        "#9________________Monedas de 0.01______________________\n",
        "retiro001 = int(queda010 // 0.01)\n",
        "queda001 = queda010 % 0.01\n",
        "\n",
        "#Mostrar__________________________________\n",
        "print(\"Billetes de $100: \", retiro100)\n",
        "print(\"Billetes de $50: \", retiro50)\n",
        "print(\"Billetes de $20: \", retiro20)\n",
        "print(\"Billetes de $10: \", retiro10)\n",
        "print(\"Billetes de $5: \", retiro5)\n",
        "print(\"Billetes de $1: \", retiro1)\n",
        "print(\"Monedas de $0.25: \", retiro025)\n",
        "print(\"Monedas de $0.10: \", retiro010)\n",
        "print(\"Monedas de $0.01: \", retiro001)"
      ],
      "metadata": {
        "id": "5J2QHt4NG_Nb"
      },
      "execution_count": null,
      "outputs": []
    }
  ]
}