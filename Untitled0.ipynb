{
  "nbformat": 4,
  "nbformat_minor": 0,
  "metadata": {
    "colab": {
      "name": "Untitled0.ipynb",
      "provenance": [],
      "collapsed_sections": []
    },
    "kernelspec": {
      "name": "python3",
      "display_name": "Python 3"
    },
    "language_info": {
      "name": "python"
    }
  },
  "cells": [
    {
      "cell_type": "markdown",
      "source": [
        "# Actividades clases"
      ],
      "metadata": {
        "id": "DDOb-1ngZZMa"
      }
    },
    {
      "cell_type": "code",
      "source": [
        "num1 = 5\n",
        "num2 = 4.6\n",
        "\n",
        "res= num1+num2\n",
        "\n",
        "\n",
        "num1 = input(\"ingrese un numero:\")\n",
        "num2 = input(\"ingrese otro numero:\")\n",
        "\n",
        "resp= num1 + num2\n",
        "print(resp)"
      ],
      "metadata": {
        "id": "x5gFKgS23XlP"
      },
      "execution_count": null,
      "outputs": []
    },
    {
      "cell_type": "code",
      "source": [
        "num1 = int(input(\"ingrese un numero:\"))\n",
        "num2 = float(input(\"ingrese otro numero\"))\n",
        "\n",
        "resp= num1 + num2\n",
        "print(resp)"
      ],
      "metadata": {
        "id": "DR2HOjEK3Xcl"
      },
      "execution_count": null,
      "outputs": []
    },
    {
      "cell_type": "code",
      "source": [
        "nombre = input(\"dime tu nombre:\")\n",
        "print(nombre, type(nombre), len(nombre))\n",
        "print(nombre[0])"
      ],
      "metadata": {
        "id": "hwNvhg2Q3XTA"
      },
      "execution_count": null,
      "outputs": []
    },
    {
      "cell_type": "code",
      "source": [
        "resp= 4-4*6/(2+1)\n",
        "print(resp)"
      ],
      "metadata": {
        "id": "-vUDhljR3W9b"
      },
      "execution_count": null,
      "outputs": []
    },
    {
      "cell_type": "code",
      "source": [
        "gustaprogramacion = True #false\n",
        "print(\"te gusta porogramar:\", gustaprogramacion)\n",
        "\n",
        "gustadiseño=False\n",
        "print(\"le gusta diseño:\", gustadiseño)\n"
      ],
      "metadata": {
        "id": "gx9y6ARM3u4D"
      },
      "execution_count": null,
      "outputs": []
    },
    {
      "cell_type": "code",
      "source": [
        "def suma(n1,n2):\n",
        " return n1 + n2\n",
        "\n",
        "print(\"la suma de 5 + 7 es:\", suma (3,5))"
      ],
      "metadata": {
        "id": "dvh3PqoG3yac"
      },
      "execution_count": null,
      "outputs": []
    },
    {
      "cell_type": "code",
      "source": [
        "def suma(n1,n2):  \n",
        "   return n1+n2\n",
        "print(\"la suma es;\", suma(n1=int(input(\"dime un numero: \")), n2=int(input(\"dime un numero: \"))))\n"
      ],
      "metadata": {
        "id": "00abea9l30gI",
        "colab": {
          "base_uri": "https://localhost:8080/"
        },
        "outputId": "4201edc6-c943-4e86-9bc0-7a33e8348ce0"
      },
      "execution_count": null,
      "outputs": [
        {
          "output_type": "stream",
          "name": "stdout",
          "text": [
            "dime un numero: 1\n",
            "dime un numero: 1\n",
            "la suma es; 2\n"
          ]
        }
      ]
    },
    {
      "cell_type": "code",
      "source": [
        "suma = lambda n1, n2 : n1+n2\n",
        "n1= float(input(\"numero uno: \"))\n",
        "n2= float(input(\"numero dos: \"))\n",
        "print(\"la respuesta es: \", suma (n1,n2))"
      ],
      "metadata": {
        "id": "zn_xJPVB31Sd",
        "colab": {
          "base_uri": "https://localhost:8080/"
        },
        "outputId": "4d26167d-5003-496d-dd89-35b738d679c9"
      },
      "execution_count": null,
      "outputs": [
        {
          "output_type": "stream",
          "name": "stdout",
          "text": [
            "numero uno: 1\n",
            "numero dos: 2\n",
            "la respuesta es:  3.0\n"
          ]
        }
      ]
    },
    {
      "cell_type": "code",
      "source": [
        "lista = [ 2,7,8,6,9]"
      ],
      "metadata": {
        "id": "RgIHLMpa34em"
      },
      "execution_count": null,
      "outputs": []
    },
    {
      "cell_type": "code",
      "source": [
        "lista=[ 2,7,8,6,9]\n",
        "\n",
        "cuadrado= lambda num: num**2\n",
        "\n",
        "cubo= lambda num: num**3\n",
        "\n",
        "potencia = lambda num, n: num**n\n",
        "\n",
        "print(\"lista: \",lista,\"al Cuadrado: \", list(map(cuadrado, lista)), \"al cubo: \", list(map(cubo,lista)))"
      ],
      "metadata": {
        "colab": {
          "base_uri": "https://localhost:8080/"
        },
        "id": "7zbM7Ipy4CrK",
        "outputId": "ffab97d1-f72f-4f1b-a781-b6360a27f86c"
      },
      "execution_count": null,
      "outputs": [
        {
          "output_type": "stream",
          "name": "stdout",
          "text": [
            "lista:  [2, 7, 8, 6, 9] al Cuadrado:  [4, 49, 64, 36, 81] al cubo:  [8, 343, 512, 216, 729]\n"
          ]
        }
      ]
    },
    {
      "cell_type": "code",
      "source": [
        "print(\"la potencia es: \", potencia(4,5))"
      ],
      "metadata": {
        "colab": {
          "base_uri": "https://localhost:8080/"
        },
        "id": "FLOoDzg14DeW",
        "outputId": "98b520f9-793c-4f77-efc4-7bdb2610540a"
      },
      "execution_count": null,
      "outputs": [
        {
          "output_type": "stream",
          "name": "stdout",
          "text": [
            "la potencia es:  1024\n"
          ]
        }
      ]
    },
    {
      "cell_type": "code",
      "source": [
        "print=(\"lista original: \", lista, \"al Cubo: \", list(map(lambda num: num**3, lista)))"
      ],
      "metadata": {
        "id": "KNY0WGnP4IYC"
      },
      "execution_count": null,
      "outputs": []
    },
    {
      "cell_type": "code",
      "execution_count": null,
      "metadata": {
        "colab": {
          "base_uri": "https://localhost:8080/"
        },
        "id": "L4xNsMfKtkxc",
        "outputId": "22b52238-1ddd-493c-8fef-ede3aad1303a"
      },
      "outputs": [
        {
          "output_type": "stream",
          "name": "stdout",
          "text": [
            "lista original:  [2, 7, 8, 6, 9] solo pare:  [2, 8, 6]\n"
          ]
        }
      ],
      "source": [
        "lista = [2,7,8,6,9]\n",
        "fpares= lambda num: num%2==0\n",
        "print(\"lista original: \", lista, \"solo pare: \", list(filter(fpares, lista)))\n"
      ]
    },
    {
      "cell_type": "code",
      "source": [
        "suma = lambda n1,n2: n1+n2"
      ],
      "metadata": {
        "id": "bVcKqd8ytyj7"
      },
      "execution_count": null,
      "outputs": []
    },
    {
      "cell_type": "code",
      "source": [
        "import functools\n",
        "print(\"lista: \", lista, \"la suma es: \", functools.reduce(suma,lista),\"media aritmetica: \", functools.reduce(suma, lista)/len(lista))"
      ],
      "metadata": {
        "colab": {
          "base_uri": "https://localhost:8080/"
        },
        "id": "R-TQWmQvuFDw",
        "outputId": "5ba6d9ca-763b-4cc6-fbcf-b76014f00f33"
      },
      "execution_count": null,
      "outputs": [
        {
          "output_type": "stream",
          "name": "stdout",
          "text": [
            "lista:  [2, 7, 8, 6, 9] la suma es:  32 media aritmetica:  6.4\n"
          ]
        }
      ]
    },
    {
      "cell_type": "code",
      "source": [
        "c=86\n"
      ],
      "metadata": {
        "id": "Sb3EMtT4l4l5"
      },
      "execution_count": null,
      "outputs": []
    },
    {
      "cell_type": "code",
      "source": [
        "def convertirC(c):\n",
        "   return c*1.8 + 32\n",
        "print(\"la respuesta es: \", convertirC(c)) "
      ],
      "metadata": {
        "colab": {
          "base_uri": "https://localhost:8080/"
        },
        "id": "tz52r4tymcOy",
        "outputId": "626cf6eb-f027-4665-d90e-1de231a06832"
      },
      "execution_count": null,
      "outputs": [
        {
          "output_type": "stream",
          "name": "stdout",
          "text": [
            "la respuesta es:  186.8\n"
          ]
        }
      ]
    },
    {
      "cell_type": "code",
      "source": [
        "GradosCiu=[27,30,32,35,40,45]\n"
      ],
      "metadata": {
        "id": "FPAJJMncpm90"
      },
      "execution_count": null,
      "outputs": []
    },
    {
      "cell_type": "code",
      "source": [
        "GradosciuF=[80.6, 86.0, 95.0, 104.0, 113.0]"
      ],
      "metadata": {
        "id": "42-ljWGrtUem"
      },
      "execution_count": null,
      "outputs": []
    },
    {
      "cell_type": "code",
      "source": [
        "print(\"los grados son: \", list(map(convertirC, GradosCiu)))"
      ],
      "metadata": {
        "colab": {
          "base_uri": "https://localhost:8080/"
        },
        "id": "vJBoZJyPqIE9",
        "outputId": "33bef307-70d9-41db-a7e2-deddf1a04d86"
      },
      "execution_count": null,
      "outputs": [
        {
          "output_type": "stream",
          "name": "stdout",
          "text": [
            "los grados son:  [80.6, 86.0, 89.6, 95.0, 104.0, 113.0]\n"
          ]
        }
      ]
    },
    {
      "cell_type": "code",
      "source": [
        "def selciuF(f):\n",
        "  return (f-32) * 0.56\n",
        "print(\"la conversion es \", list(map(selciuF, GradosciuF)))"
      ],
      "metadata": {
        "colab": {
          "base_uri": "https://localhost:8080/"
        },
        "id": "YQy9NWGOq7U_",
        "outputId": "5751a44d-4803-458e-866e-cba694138d2a"
      },
      "execution_count": null,
      "outputs": [
        {
          "output_type": "stream",
          "name": "stdout",
          "text": [
            "la conversion es  [27.216, 30.240000000000002, 35.28, 40.32000000000001, 45.36000000000001]\n"
          ]
        }
      ]
    },
    {
      "cell_type": "code",
      "source": [
        "gradosC= lambda c: c*1.8 + 32\n",
        "c= float(input(\"ingrese grados C°: \"))\n",
        "print(\"grados:\" ,(gradosC(c)))"
      ],
      "metadata": {
        "colab": {
          "base_uri": "https://localhost:8080/"
        },
        "id": "QeWI3pSOv3AF",
        "outputId": "a35b5b41-94a4-4992-d9f1-693097e7b44c"
      },
      "execution_count": null,
      "outputs": [
        {
          "output_type": "stream",
          "name": "stdout",
          "text": [
            "ingrese grados C°: 12\n",
            "grados: 53.6\n"
          ]
        }
      ]
    },
    {
      "cell_type": "markdown",
      "source": [
        "Hacer un algotrimo en python que convierta de grados celsius a kelvin y vise versa\n",
        "\n",
        "hacer un algotritmo que encuentre la nota final de ciclo de una materia "
      ],
      "metadata": {
        "id": "wrHARXlE2Yo3"
      }
    },
    {
      "cell_type": "markdown",
      "source": [
        "Tarea de grados kevil a celsius y verse versa"
      ],
      "metadata": {
        "id": "6Ih1xO7LcVOh"
      }
    },
    {
      "cell_type": "code",
      "source": [
        "def gradosk(k):\n",
        "  return k-273.15\n",
        "k= float(input(\"ingrese grados kelvin: \"))  \n",
        "print(\"la conversion de grados kelvin a celsius es: \", gradosk(k))"
      ],
      "metadata": {
        "colab": {
          "base_uri": "https://localhost:8080/"
        },
        "id": "Odl7r7jecLti",
        "outputId": "afb05007-e9f3-4d96-a7b1-7dd0114e04ca"
      },
      "execution_count": null,
      "outputs": [
        {
          "output_type": "stream",
          "name": "stdout",
          "text": [
            "ingrese grados kelvin: 53\n",
            "la conversion de grados kelvin a celsius es:  -220.14999999999998\n"
          ]
        }
      ]
    },
    {
      "cell_type": "code",
      "source": [
        "def gradosC(c):\n",
        "  return c+273.15\n",
        "c= float(input(\"ingrese grados kelvin: \"))  \n",
        "print(\"la conversion de grados kelvin a celsius es: \", gradosC(c))"
      ],
      "metadata": {
        "colab": {
          "base_uri": "https://localhost:8080/"
        },
        "id": "4uKRoigJdjgh",
        "outputId": "857f1e0d-d2da-4cbf-a31c-419667d8e1bf"
      },
      "execution_count": null,
      "outputs": [
        {
          "output_type": "stream",
          "name": "stdout",
          "text": [
            "ingrese grados kelvin: 5\n",
            "la conversion de grados kelvin a celsius es:  278.15\n"
          ]
        }
      ]
    },
    {
      "cell_type": "markdown",
      "source": [
        "Tarea de algoritmo nota final \n"
      ],
      "metadata": {
        "id": "_4QNKW18dw2g"
      }
    },
    {
      "cell_type": "code",
      "source": [
        "\n",
        "def C1(Lab1,Lab2,P1): \n",
        "  return (Lab1+Lab2+P1)/3\n",
        "def C2(C2Lab1 ,C2Lab2,P2):\n",
        "  return (C2Lab1+C2Lab2+P2)/3\n",
        "def C3(C3Lab1,C3Lab2,P3):\n",
        "  return (C3Lab1+C3Lab2+P3)/3\n",
        "Lab1= float(input(\"Computo 1 Lab1 C1: \"))  \n",
        "Lab2= float(input(\"Computo 1Lab2 C1: \"))\n",
        "P1= float(input(\"P1: \")) \n",
        "C2Lab1= float(input(\"Computo 2 Lab1 C1: \"))  \n",
        "C2Lab2= float(input(\"Computo 2 Lab2 C1: \"))\n",
        "P2= float(input(\"P2: \"))\n",
        "C3Lab1= float(input(\"Computo 3 Lab1 C1: \"))  \n",
        "C3Lab2= float(input(\"Computo 3 Lab2 C1: \"))\n",
        "P3= float(input(\"P3: \"))\n",
        "nota=((Lab1+Lab2+P1+C2Lab1+C2Lab2+P2+C3Lab1+C3Lab2+P3)/3)/3\n",
        "print(\"La nota de su computo es: \", C1(Lab1,Lab2,P1))"
      ],
      "metadata": {
        "id": "zjo_45sd4bwI",
        "colab": {
          "base_uri": "https://localhost:8080/"
        },
        "outputId": "08b08f9f-f6d1-4721-abf3-0d9785ed4762"
      },
      "execution_count": 1,
      "outputs": [
        {
          "output_type": "stream",
          "name": "stdout",
          "text": [
            "Computo 1 Lab1 C1: 8\n",
            "Computo 1Lab2 C1: 8\n",
            "P1: 7\n",
            "Computo 2 Lab1 C1: 9\n",
            "Computo 2 Lab2 C1: 8\n",
            "P2: 8\n",
            "Computo 3 Lab1 C1: 7\n",
            "Computo 3 Lab2 C1: 9\n",
            "P3: 8\n",
            "La nota de su computo es:  7.666666666666667\n"
          ]
        }
      ]
    },
    {
      "cell_type": "code",
      "source": [
        "edades=(2,5,12,18,65.100)\n",
        "print(edades,\"la mejor edad es: \", edades[0])\n"
      ],
      "metadata": {
        "colab": {
          "base_uri": "https://localhost:8080/"
        },
        "id": "magBxmXir5My",
        "outputId": "cb6e751b-e166-418d-881c-68f65514f813"
      },
      "execution_count": null,
      "outputs": [
        {
          "output_type": "stream",
          "name": "stdout",
          "text": [
            "(2, 5, 12, 18, 65.1) la mejor edad es:  2\n"
          ]
        }
      ]
    },
    {
      "cell_type": "code",
      "source": [
        "print(\"la edad al cuadro es\", edades, \"responsabilidad\", tuple(filter(lambda e:e>18, edades)))\n",
        "print(\"la edad es: \", edades, \"al cuadrado\", tuple(map(lambda n:n**2, edades)))"
      ],
      "metadata": {
        "colab": {
          "base_uri": "https://localhost:8080/"
        },
        "id": "bgk0D4V-sQxF",
        "outputId": "9d9cb85b-636b-48eb-e26d-dc81b1009432"
      },
      "execution_count": null,
      "outputs": [
        {
          "output_type": "stream",
          "name": "stdout",
          "text": [
            "la edad al cuadro es (2, 5, 12, 18, 65.1) responsabilidad (65.1,)\n",
            "la edad es:  (2, 5, 12, 18, 65.1) al cuadrado (4, 25, 144, 324, 4238.009999999999)\n"
          ]
        }
      ]
    },
    {
      "cell_type": "code",
      "source": [
        "notas=[6,8,9]\n",
        "print(\"notas: \", notas)\n",
        "notas[0]=9\n",
        "print(\"notas:\", notas)"
      ],
      "metadata": {
        "colab": {
          "base_uri": "https://localhost:8080/"
        },
        "id": "KvluRW9ptWxl",
        "outputId": "f6758ea3-d817-46c0-9645-ddbf34f0dfb1"
      },
      "execution_count": null,
      "outputs": [
        {
          "output_type": "stream",
          "name": "stdout",
          "text": [
            "notas:  [6, 8, 9]\n",
            "notas: [9, 8, 9]\n"
          ]
        }
      ]
    },
    {
      "cell_type": "code",
      "source": [
        "notasProgra=[\n",
        "    [9,8,10],\n",
        "    [10,6,9],\n",
        "    [10,9,10] \n",
        "]\n",
        "print(notasProgra)\n",
        "print(\"lab2 C1\",notasProgra [0][1]  )"
      ],
      "metadata": {
        "colab": {
          "base_uri": "https://localhost:8080/"
        },
        "id": "Q6reGrHOt2ap",
        "outputId": "89e16b74-abd8-43ad-f077-3a6900b73714"
      },
      "execution_count": null,
      "outputs": [
        {
          "output_type": "stream",
          "name": "stdout",
          "text": [
            "[[9, 8, 10], [10, 6, 9], [10, 9, 10]]\n",
            "lab2 C1 8\n"
          ]
        }
      ]
    },
    {
      "cell_type": "code",
      "source": [
        "#diccionario se decalara con {} pero se eçusan con []\n",
        "misnotas{\n",
        "   \"progra III\":\n",
        "   \"C1\"{\n",
        "        \"Lab1\":9,\"Lab2\":8, \"parcial\":{\"parI\":8, \"par2\":9}\n",
        "       },\n",
        "   \"C2\"{\n",
        "        \"Lab1\":5,\"Lab2\":4, \"parcial\":{\"parI\":5, \"par2\":9}\n",
        "       },    \n",
        "   \"C3\"{\n",
        "        \"Lab1\":9,\"Lab2\":8, \"parcial\":{\"parI\":10, \"par2\":9}\n",
        "       },    \n",
        "}"
      ],
      "metadata": {
        "id": "5X49qNZsu3dW"
      },
      "execution_count": null,
      "outputs": []
    },
    {
      "cell_type": "code",
      "source": [
        "edad = int(input(\"ingrese su edad: \"))\n",
        "if(edad<=18):\n",
        " print(\"eres menor de edad\")\n",
        "else:\n",
        "  print(\"eres mayor de edad\")\n",
        "print(\"termino\")"
      ],
      "metadata": {
        "id": "IZf-YcOVyQYm",
        "colab": {
          "base_uri": "https://localhost:8080/"
        },
        "outputId": "807ad46c-5240-4881-871d-ea4514825a64"
      },
      "execution_count": null,
      "outputs": [
        {
          "output_type": "stream",
          "name": "stdout",
          "text": [
            "ingrese su edad: 23\n",
            "eres mayor de edad\n",
            "termino\n"
          ]
        }
      ]
    },
    {
      "cell_type": "code",
      "source": [
        "edad = int(input(\"ingrese su edad: \"))\n",
        "if(edad<=2):\n",
        "  print(\"eres un bebe\")\n",
        "elif(edad<12):\n",
        "  print(\"eres un niño\")\n",
        "elif(edad<18):\n",
        "  print(\"eres un adolecente\")\n",
        "elif(edad<55):\n",
        "  print(\"eres un adulto joven\")\n",
        "elif(edad<65):\n",
        "  print(\"eres un adulto\")\n",
        "elif(edad<85):\n",
        "  print(\"eres un adulto mayor\")\n",
        "print(\"termino\")"
      ],
      "metadata": {
        "colab": {
          "base_uri": "https://localhost:8080/"
        },
        "id": "lj4meEueqEDe",
        "outputId": "8c8c191c-3150-460c-90d3-82f395c10f1a"
      },
      "execution_count": null,
      "outputs": [
        {
          "output_type": "stream",
          "name": "stdout",
          "text": [
            "ingrese su edad: 12\n",
            "eres un adolecente\n",
            "termino\n"
          ]
        }
      ]
    },
    {
      "cell_type": "code",
      "source": [
        "nt= int(input(\"dime un numero: \"))\n",
        "i=1\n",
        "while i<10:\n",
        "  print(nt,\"x\",i,\"=\",nt*i)\n",
        "  i+1"
      ],
      "metadata": {
        "id": "-29uJeIxyige"
      },
      "execution_count": null,
      "outputs": []
    },
    {
      "cell_type": "markdown",
      "source": [
        "# Tareas Coversor de temperatura y nota final\n"
      ],
      "metadata": {
        "id": "Ba5rfdH4ZnFv"
      }
    },
    {
      "cell_type": "code",
      "source": [
        "def gradosk(k):\n",
        "  return k-273.15\n",
        "k= float(input(\"ingrese grados kelvin: \"))  \n",
        "print(\"la conversion de grados kelvin a celsius es: \", gradosk(k))"
      ],
      "metadata": {
        "id": "2PtZzd5eaEQJ"
      },
      "execution_count": null,
      "outputs": []
    },
    {
      "cell_type": "code",
      "source": [
        "def gradosC(c):\n",
        "  return c+273.15\n",
        "c= float(input(\"ingrese grados kelvin: \"))  \n",
        "print(\"la conversion de grados kelvin a celsius es: \", gradosC(c))"
      ],
      "metadata": {
        "id": "NFRR1tciaNEs"
      },
      "execution_count": null,
      "outputs": []
    },
    {
      "cell_type": "code",
      "source": [
        "def C1(Lab1,Lab2,P1): \n",
        "  return (Lab1+Lab2+P1)/3\n",
        "def C2(C2Lab1 ,C2Lab2,P2):\n",
        "  return (C2Lab1+C2Lab2+P2)/3\n",
        "def C3(C3Lab1,C3Lab2,P3):\n",
        "  return (C3Lab1+C3Lab2+P3)/3\n",
        "Lab1= float(input(\"Computo 1 Lab1 C1: \"))  \n",
        "Lab2= float(input(\"Computo 1Lab2 C1: \"))\n",
        "P1= float(input(\"P1: \")) \n",
        "C2Lab1= float(input(\"Computo 2 Lab1 C1: \"))  \n",
        "C2Lab2= float(input(\"Computo 2 Lab2 C1: \"))\n",
        "P2= float(input(\"P2: \"))\n",
        "C3Lab1= float(input(\"Computo 3 Lab1 C1: \"))  \n",
        "C3Lab2= float(input(\"Computo 3 Lab2 C1: \"))\n",
        "P3= float(input(\"P3: \"))\n",
        "nota=((Lab1+Lab2+P1+C2Lab1+C2Lab2+P2+C3Lab1+C3Lab2+P3)/3)/3\n",
        "print(\"La nota global es: \", C1(Lab1,Lab2,P1))"
      ],
      "metadata": {
        "id": "flRPvJ0CZ9xi"
      },
      "execution_count": null,
      "outputs": []
    },
    {
      "cell_type": "markdown",
      "source": [
        "# Tarea Calculo de AFP, ISSS y renta"
      ],
      "metadata": {
        "id": "oS2V-IiOWdpl"
      }
    },
    {
      "cell_type": "code",
      "source": [
        "sueldo=float(input(\"su salario es: \"))\n",
        "ISSS= sueldo*0.03\n",
        "AFP= sueldo*0.0625\n",
        "descuento=(ISSS+AFP) \n",
        "salario_liquido= sueldo-(ISSS+AFP) \n",
        "\n",
        "print(\"su des cuento de AFP es: \",AFP,\"Su decuento de ISSS es:\",ISSS)\n",
        "\n",
        "if (salario_liquido<=472.00): \n",
        "  print(\"su salario neto es: \",salario_liquido)\n",
        "  print(\"libre de Impuestos\")\n",
        "elif(salario_liquido<=895.24):\n",
        "    tramoII=salario_liquido*0.10\n",
        "    salario_sobre_renta = (salario_liquido-tramoII)\n",
        "    print(\"Su Impuesto a pagar es de: \",tramoII)\n",
        "    print(\"su salario es: \",salario_sobre_renta)\n",
        "elif(salario_liquido<=2038.10):\n",
        "   tramoIII=salario_liquido*0.20\n",
        "   salario_sobre_renta = (salario_liquido-tramoIII)\n",
        "   print(\"Su impuesto a pagar es de:\",tramoIII)\n",
        "   print(\"su salario es: \",salario_sobre_renta)\n",
        "elif(salario_liquido>=2038.11):\n",
        "    tramoIV=salario_liquido*0.30\n",
        "    salario_sobre_renta = (salario_liquido-tramoIV)\n",
        "    print(\"Su Impuesto a pagar es: \",tramoIV)\n",
        "    print(\"su salario es: \",salario_sobre_renta)\n",
        "else:\n",
        "  print(\"libre de impuestos\")"
      ],
      "metadata": {
        "colab": {
          "base_uri": "https://localhost:8080/"
        },
        "id": "i6BsUdYEq-nN",
        "outputId": "4291f0e1-7560-46d1-9fe1-1c9ea8a47cc3"
      },
      "execution_count": null,
      "outputs": [
        {
          "output_type": "stream",
          "name": "stdout",
          "text": [
            "su salario es: 500\n",
            "su des cuento de AFP ES:  31.25 Su decuento de ISSS es: 15.0\n",
            "su salario neto es:  453.75\n",
            "libre de Impuestos\n"
          ]
        }
      ]
    },
    {
      "cell_type": "markdown",
      "source": [
        "# Tarea Calculo de agua consumida"
      ],
      "metadata": {
        "id": "UkttdIhHWstO"
      }
    },
    {
      "cell_type": "code",
      "source": [
        "agua_consumida= int(input(\"ingrese la cantidad de metros consumidos: \"))\n",
        "cuota_fija=6\n",
        "\n",
        "if(agua_consumida<=18):\n",
        "  print(\"la tarifa a pagar es de: 6 dolares\")\n",
        "elif(agua_consumida<=28):\n",
        "  sobre_cargo= (agua_consumida-18)*0.45+(cuota_fija)\n",
        "  print(\"su tarifa a pagar es:\",sobre_cargo,\"dolaes\")\n",
        "elif(agua_consumida>=29):\n",
        "  sobre_cargodos=((agua_consumida-28)*0.65)+4.50+cuota_fija\n",
        "  print(\"su tarifa a pagar es:\",sobre_cargodos,\"dolares\")\n",
        "else:\n",
        "  print(\"fin de la coversion\")\n"
      ],
      "metadata": {
        "colab": {
          "base_uri": "https://localhost:8080/"
        },
        "id": "Hr4MVTnZSteM",
        "outputId": "7ce7dcc9-2c5f-43d8-a274-0fccd00505c4"
      },
      "execution_count": null,
      "outputs": [
        {
          "output_type": "stream",
          "name": "stdout",
          "text": [
            "ingrese la cantidad de metros consumidos: 38\n",
            "su tarifa a pagar es: 17.0 dolares\n"
          ]
        }
      ]
    },
    {
      "cell_type": "markdown",
      "source": [
        "# Tarea calculo de meses acumulados\n"
      ],
      "metadata": {
        "id": "pptcsn6DXcym"
      }
    },
    {
      "cell_type": "code",
      "source": [
        "print(\"ingrese la cantidad de meses que de impuestos sobre el tren de aceo\")\n",
        "print(\"a una tarifa de 1.00 al mes\")\n",
        "def mes(n):\n",
        " if n==1:\n",
        "   return float(1)\n",
        " nun=n\n",
        " temp=mes(n-1) \n",
        " return nun+temp\n",
        "n=int(input(\"Ingrese la cantidad de meses atrasados: \"))\n",
        "print(mes(n))    \n"
      ],
      "metadata": {
        "id": "CEdGJxoLq-Cc",
        "colab": {
          "base_uri": "https://localhost:8080/"
        },
        "outputId": "6e6a269d-ed2b-4485-bef5-c9fd9be52b33"
      },
      "execution_count": 5,
      "outputs": [
        {
          "output_type": "stream",
          "name": "stdout",
          "text": [
            "ingrese la cantidad de meses que de impuestos sobre el tren de aceo\n",
            "a una tarifa de 1.00 al mes\n",
            "Ingrese la cantidad de meses atrasados: 9\n",
            "45.0\n"
          ]
        }
      ]
    },
    {
      "cell_type": "markdown",
      "source": [
        "# Tarea Conversor de unidades "
      ],
      "metadata": {
        "id": "g79uA7xWY0T7"
      }
    },
    {
      "cell_type": "code",
      "source": [
        "#Medidas De Longitud, Volumen y Masa con Condicionales.\n",
        "\n",
        "#MENU\n",
        "opcion_medida = int (input(\"**MENU PRINCIPAL** \\n\"\n",
        "                           \"1. Medidas de Longitud \\n\"\n",
        "                           \"2. Medidas Volumen \\n\"\n",
        "                           \"3. Medidas de Masa \\n\"\n",
        "                           \"Escoja la pcion que desea: \"))\n",
        "#MEDIDAS DE LONGITUD\n",
        "if opcion_medida == 1:\n",
        "  print (\"\\n**MEDIDAS DE LONGITUD**\")\n",
        "  opcion_submenu = int(input(\"1. Pulgadas a Milimetros \\n\"\n",
        "                             \"2. Yardas a Metros \\n\"\n",
        "                             \"3. Pulgadas a Centimetros \\n\"\n",
        "                             \"4. Kilometros a Milla Nautica \\n\"\n",
        "                             \"5. Kilometros a Millas \\n\"\n",
        "                             \"6. Pies a Yardas \\n\"\n",
        "                             \"7. Acres a Hectareas \\n\"\n",
        "                             \"8. Millas a Metros \\n\"\n",
        "                             \"9. Pies a Centrimetros \\n\"\n",
        "                             \"10. Milimetros a Pulgadas \\n\"\n",
        "                             \"Escoja la opcion que desea: \"))\n",
        "#Pulgadas a Milimetros\n",
        "  if opcion_submenu == 1:\n",
        "    print(\"-----------------------------------------------------------------------------\")\n",
        "    pulgadas = int(input(\"Ingrese la cantidad de Pulgadas a convertir: \"))\n",
        "    milimetros = pulgadas * 25.4\n",
        "    print(pulgadas, \"Pulgadas equivalen a: \", milimetros,\" Milimetros\")\n",
        "\n",
        "#Yardas a Metros\n",
        "  elif opcion_submenu == 2:\n",
        "    print(\"-----------------------------------------------------------------------------\")\n",
        "    yardas = int(input(\"Ingrese la cantidad de Yardas a convertir: \"))\n",
        "    metros = yardas * 0.9144\n",
        "    print(yardas, \"Yardas equivalen a: \", metros,\" Metros\")\n",
        "\n",
        "#Pulgadas a Centimetros\n",
        "  elif opcion_submenu == 3:\n",
        "    print(\"-----------------------------------------------------------------------------\")\n",
        "    pulgadas = int(input(\"Ingrese la cantidad de Pulgadas a convertir: \"))\n",
        "    centimetros = pulgadas * 2.54\n",
        "    print(pulgadas, \"Pulgadas equivalen a: \", centimetros,\" Centimetros\")\n",
        "\n",
        "#Kilometros a Millas Nauticas\n",
        "  elif opcion_submenu == 4:\n",
        "    print(\"-----------------------------------------------------------------------------\")\n",
        "    kilometros = int(input(\"Ingrese la cantidad de Kilometros a convertir: \"))\n",
        "    milla_nautica = kilometros / 1.852\n",
        "    print(kilometros, \"Kilometros equivalen a: \", milla_nautica,\" Millas Nauticas\")\n",
        "\n",
        "#Kilometros a Millas\n",
        "  elif opcion_submenu == 5:\n",
        "    print(\"-----------------------------------------------------------------------------\")\n",
        "    kilometros = int(input(\"Ingrese la cantidad de Kilometros a convertir: \"))\n",
        "    milla = kilometros / 1.609\n",
        "    print(kilometros, \"Kilometros equivalen a: \", milla,\" Millas\")\n",
        "\n",
        "#Pies a Yardas\n",
        "  elif opcion_submenu == 6:\n",
        "    print(\"-----------------------------------------------------------------------------\")\n",
        "    pies = int(input(\"Ingrese la cantidad de Pies a convertir: \"))\n",
        "    yarda = pies / 3\n",
        "    print(pies, \"Pies equivalen a: \", yarda,\" Yarda\")\n",
        "\n",
        "#Acres a Hectareas\n",
        "  elif opcion_submenu == 7:\n",
        "    print(\"-----------------------------------------------------------------------------\")\n",
        "    acres = int(input(\"Ingrese la cantidad de Acres  a convertir: \"))\n",
        "    hectareas = acres  * 0.4047\n",
        "    print(acres , \"Acres  equivalen a: \", hectareas,\" Hectareas\")\n",
        "\n",
        "#Millas a Metros\n",
        "  elif opcion_submenu == 8:\n",
        "    print(\"-----------------------------------------------------------------------------\")\n",
        "    millas = int(input(\"Ingrese la cantidad de Millas a convertir: \"))\n",
        "    metros = millas * 1609\n",
        "    print(millas, \"Millas equivalen a: \", metros,\" Metros\")\n",
        "\n",
        " #Pies a Centimetros\n",
        "  elif opcion_submenu == 9:\n",
        "    print(\"-----------------------------------------------------------------------------\")\n",
        "    pies = int(input(\"Ingrese la cantidad de Pies a convertir: \"))\n",
        "    centimetros = pies * 30.48\n",
        "    print(pies, \"Pies equivalen a: \", centimetros,\" Centimetros\")   \n",
        "\n",
        " #Milimetros a Pulgadas \n",
        "  elif opcion_submenu == 10:\n",
        "    print(\"-----------------------------------------------------------------------------\")\n",
        "    milimetros = int(input(\"Ingrese la cantidad de Milimetros a convertir: \"))\n",
        "    pulgadas = milimetros / 25.4\n",
        "    print(milimetros, \"Milimetros equivalen a: \", pulgadas,\" Pulgadas\")   \n",
        "\n",
        "  else: \n",
        "    print(\"La opcion que escogio no existe\")\n",
        "\n",
        "#_____________________________________\n",
        "#MEDIDAS DE VOLUMEN\n",
        "elif opcion_medida == 2:\n",
        "  print (\"\\n**MEDIDAS DE VOLUMEN**\")\n",
        "  opcion_submenu = int(input(\"1. Pies^3 a Metros^3 \\n\"\n",
        "                             \"2. Yardas^3 a Metros^3 \\n\"\n",
        "                             \"3. Galon a Litro \\n\"\n",
        "                             \"4. Pies^3 a Pulgadas^3 \\n\"\n",
        "                             \"5. Tazas a Cucharadas \\n\"\n",
        "                             \"6. Pinta a Litro \\n\"\n",
        "                             \"7. Metro^3 a Pulgada^3 \\n\"\n",
        "                             \"8. Taza a Litro \\n\"\n",
        "                             \"9. Onza al Mililitro \\n\"\n",
        "                             \"10. Cucharadas a Mililitros \\n\"\n",
        "                             \"Escoja la pcion que desea: \"))\n",
        "#Pies^3 a Metros^3\n",
        "  if opcion_submenu == 1:\n",
        "    print(\"-----------------------------------------------------------------------------\")\n",
        "    pies_3 = int(input(\"Ingrese la cantidad de Pies^3 a convertir: \"))\n",
        "    metros_3 = pies_3 * 0.02382\n",
        "    print(pies_3, \"Pies^3 equivalen a: \", metros_3,\" Metros^3\")\n",
        "\n",
        "#Yardas^3 a Metros^3\n",
        "  elif opcion_submenu == 2:\n",
        "    print(\"-----------------------------------------------------------------------------\")\n",
        "    yardas_3 = int(input(\"Ingrese la cantidad de Yardas^3 a convertir: \"))\n",
        "    metros_3 = yardas_3 * 0.7646\n",
        "    print(yardas_3, \"Yardas equivalen a: \", metros_3,\" Metros\")\n",
        "\n",
        "#Galon a Litro\n",
        "  elif opcion_submenu == 3:\n",
        "    print(\"-----------------------------------------------------------------------------\")\n",
        "    galon = int(input(\"Ingrese la cantidad de Galon a convertir: \"))\n",
        "    litro = galon * 3.785\n",
        "    print(galon, \"Galon equivalen a: \", litro,\" Litro\")\n",
        "\n",
        "#Pies^3 a Pulgadas^3\n",
        "  elif opcion_submenu == 4:\n",
        "    print(\"-----------------------------------------------------------------------------\")\n",
        "    pies_3 = int(input(\"Ingrese la cantidad de Pies^3 a convertir: \"))\n",
        "    pulgadas_3 = pies_3 * 1728\n",
        "    print(pies_3, \"Pies^3 equivalen a: \", pulgadas_3,\" Pulgadas^3\")\n",
        "\n",
        "#Tazas a Cucharadas\n",
        "  elif opcion_submenu == 5:\n",
        "    print(\"-----------------------------------------------------------------------------\")\n",
        "    tazas = int(input(\"Ingrese la cantidad de Tazas a convertir: \"))\n",
        "    cucharadas = tazas * 16.231\n",
        "    print(tazas, \"Tazas equivalen a: \", cucharadas,\" Cucharadas\")\n",
        "\n",
        "#Pinta a Litro\n",
        "  elif opcion_submenu == 6:\n",
        "    print(\"-----------------------------------------------------------------------------\")\n",
        "    pinta = int(input(\"Ingrese la cantidad de Pintas a convertir: \"))\n",
        "    litro = pinta / 2.113\n",
        "    print(pinta, \"Pintas equivalen a: \", litro,\" Litros\")\n",
        "\n",
        "#Metro^3 a Pulgada^3\n",
        "  elif opcion_submenu == 7:\n",
        "    print(\"-----------------------------------------------------------------------------\")\n",
        "    metro_3 = int(input(\"Ingrese la cantidad de Metros^3 a convertir: \"))\n",
        "    pulgada_3 = metro_3 * 61020\n",
        "    print(metro_3, \"Metros^3 equivalen a: \", pulgada_3,\" Pulgadas^3\")\n",
        "\n",
        "#Taza a Litro\n",
        "  elif opcion_submenu == 8:\n",
        "    print(\"-----------------------------------------------------------------------------\")\n",
        "    taza = int(input(\"Ingrese la cantidad de Tazas a convertir: \"))\n",
        "    litro = taza * 4.167\n",
        "    print(taza, \"Tazas equivalen a: \", litro,\" Litros\")\n",
        "\n",
        "#Onza al Mililitro\n",
        "  elif opcion_submenu == 9:\n",
        "    print(\"-----------------------------------------------------------------------------\")\n",
        "    onza = int(input(\"Ingrese la cantidad de Onzas a convertir: \"))\n",
        "    mililitro = onza * 29.574\n",
        "    print(onza, \"Onzas equivalen a: \", mililitro,\" Mililitros\")\n",
        "\n",
        "#Cucharadas a Mililitros\n",
        "  elif opcion_submenu == 10:\n",
        "    print(\"-----------------------------------------------------------------------------\")\n",
        "    cucharadas = int(input(\"Ingrese la cantidad de Cucharadas a convertir: \"))\n",
        "    mililitros = cucharadas * 0.45359\n",
        "    print(cucharadas, \"Cucharadas equivalen a: \", mililitros,\" Mililitros\")\n",
        "\n",
        "  else: \n",
        "    print(\"La opcion que escogio no existe\")\n",
        "\n",
        "#_____________________________________\n",
        "#MEDIDAD DE MASA\n",
        "elif opcion_medida == 3:\n",
        "  print (\"\\n**MEDIDAS DE MASA**\")\n",
        "  opcion_submenu = int(input(\"1. Onzas a Gramos \\n\"\n",
        "                             \"2. Libras a Kilogramos \\n\"\n",
        "                             \"3. Toneladas a Onzas \\n\"\n",
        "                             \"4. Gramos a Miligramos \\n\"\n",
        "                             \"5. Toneladas a Libras \\n\"\n",
        "                             \"6. Onzas a Libras  \\n\"\n",
        "                             \"7. Toneladas a Kilogramos \\n\"\n",
        "                             \"8. Kilogramos a Libras \\n\"\n",
        "                             \"9. Libras a Gramos \\n\"\n",
        "                             \"10. Gramos a Libras\\n\"\n",
        "                             \"Escoja la pcion que desea: \"))\n",
        "#Onzas a Gramos\n",
        "  if opcion_submenu == 1:\n",
        "    print(\"-----------------------------------------------------------------------------\")\n",
        "    onzas = int(input(\"Ingrese la cantidad de Onzas a convertir: \"))\n",
        "    gramos = onzas * 28.35\n",
        "    print(onzas, \"Onzas equivalen a: \", gramos,\" Gramos\")\n",
        "\n",
        "#Libras a Kilogramos\n",
        "  elif opcion_submenu == 2:\n",
        "    print(\"-----------------------------------------------------------------------------\")\n",
        "    libras = int(input(\"Ingrese la cantidad de Libras a convertir: \"))\n",
        "    kilogramos = libras * 0.45359\n",
        "    print(libras, \"Libras equivalen a: \", kilogramos,\" Kilogramos\")\n",
        "\n",
        "#Toneladas a Onzas\n",
        "  elif opcion_submenu == 3:\n",
        "    print(\"-----------------------------------------------------------------------------\")\n",
        "    tonelada = int(input(\"Ingrese la cantidad de Toneladas a convertir: \"))\n",
        "    onza = tonelada * 35270\n",
        "    print(tonelada, \"Toneladas equivalen a: \", onza,\" Onzas\")\n",
        "\n",
        "#Gramos a Miligramos\n",
        "  elif opcion_submenu == 4:\n",
        "    print(\"-----------------------------------------------------------------------------\")\n",
        "    gramo = int(input(\"Ingrese la cantidad de Gramos a convertir: \"))\n",
        "    miligramo = gramo * 1000\n",
        "    print(gramo, \"Gramos equivalen a: \", miligramo ,\" Miligramos\")\n",
        "\n",
        "#Toneladas a Libras\n",
        "  elif opcion_submenu == 5:\n",
        "    print(\"-----------------------------------------------------------------------------\")\n",
        "    toneladas = int(input(\"Ingrese la cantidad de Toneladas a convertir: \"))\n",
        "    libras = toneladas * 2240\n",
        "    print(toneladas, \"Toneladas equivalen a: \", libras,\" Libras\")\n",
        "\n",
        "#Onzas a Libras \n",
        "  elif opcion_submenu == 6:\n",
        "    print(\"-----------------------------------------------------------------------------\")\n",
        "    onzas = int(input(\"Ingrese la cantidad de Onzas a convertir: \"))\n",
        "    libras = onzas / 16\n",
        "    print(onzas, \"Onzas equivalen a: \", libras,\" Libras\")\n",
        "\n",
        "#Toneladas a Kilogramos\n",
        "  elif opcion_submenu == 7:\n",
        "    print(\"-----------------------------------------------------------------------------\")\n",
        "    toneladas = int(input(\"Ingrese la cantidad de Toneladas a convertir: \"))\n",
        "    kilogramos = toneladas * 1000\n",
        "    print(toneladas, \"Toneladas equivalen a: \", kilogramos,\" Kilogramos\")\n",
        "\n",
        "#Kilogramos a Libras\n",
        "  elif opcion_submenu == 8:\n",
        "    print(\"-----------------------------------------------------------------------------\")\n",
        "    kilogramos = int(input(\"Ingrese la cantidad de Kilogramos a convertir: \"))\n",
        "    libras = kilogramos * 2.205\n",
        "    print(kilogramos, \"Kilogramos equivalen a: \", libras,\" Libras\")\n",
        "\n",
        "#Libras a Gramos\n",
        "  elif opcion_submenu == 9:\n",
        "    print(\"-----------------------------------------------------------------------------\")\n",
        "    libras = int(input(\"Ingrese la cantidad de Libras a convertir: \"))\n",
        "    gramos = libras * 453.6\n",
        "    print(libras, \"Libras equivalen a: \", gramos,\" Gramos\")\n",
        "\n",
        "#Gramos a Libras\n",
        "  elif opcion_submenu == 10:\n",
        "    print(\"-----------------------------------------------------------------------------\")\n",
        "    gramos = int(input(\"Ingrese la cantidad de Gramos a convertir: \"))\n",
        "    libras = gramos / 453.6\n",
        "    print(gramos, \"Gramos equivalen a: \", libras,\" Libras\")\n",
        "\n",
        "  else: \n",
        "    print(\"La opcion que escogio no existe\")\n",
        "else:\n",
        "  print(\"La opcion que escogio no existe\")"
      ],
      "metadata": {
        "colab": {
          "base_uri": "https://localhost:8080/"
        },
        "id": "yIrxwP1-Y7sE",
        "outputId": "10dfda9c-5c71-4e94-b93d-224d8c99453a"
      },
      "execution_count": 6,
      "outputs": [
        {
          "output_type": "stream",
          "name": "stdout",
          "text": [
            "**MENU PRINCIPAL** \n",
            "1. Medidas de Longitud \n",
            "2. Medidas Volumen \n",
            "3. Medidas de Masa \n",
            "Escoja la pcion que desea: 1\n",
            "\n",
            "**MEDIDAS DE LONGITUD**\n",
            "1. Pulgadas a Milimetros \n",
            "2. Yardas a Metros \n",
            "3. Pulgadas a Centimetros \n",
            "4. Kilometros a Milla Nautica \n",
            "5. Kilometros a Millas \n",
            "6. Pies a Yardas \n",
            "7. Acres a Hectareas \n",
            "8. Millas a Metros \n",
            "9. Pies a Centrimetros \n",
            "10. Milimetros a Pulgadas \n",
            "Escoja la opcion que desea: 1\n",
            "-----------------------------------------------------------------------------\n",
            "Ingrese la cantidad de Pulgadas a convertir: 5\n",
            "5 Pulgadas equivalen a:  127.0  Milimetros\n"
          ]
        }
      ]
    }
  ]
}