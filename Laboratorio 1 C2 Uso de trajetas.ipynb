{
  "nbformat": 4,
  "nbformat_minor": 0,
  "metadata": {
    "colab": {
      "provenance": [],
      "collapsed_sections": [],
      "include_colab_link": true
    },
    "kernelspec": {
      "name": "python3",
      "display_name": "Python 3"
    },
    "language_info": {
      "name": "python"
    }
  },
  "cells": [
    {
      "cell_type": "markdown",
      "metadata": {
        "id": "view-in-github",
        "colab_type": "text"
      },
      "source": [
        "<a href=\"https://colab.research.google.com/github/JulioMaravilla/Programacion-III/blob/main/Laboratorio%201%20C2%20Uso%20de%20trajetas.ipynb\" target=\"_parent\"><img src=\"https://colab.research.google.com/assets/colab-badge.svg\" alt=\"Open In Colab\"/></a>"
      ]
    },
    {
      "cell_type": "markdown",
      "source": [
        "#Integrantes del Grupo\n",
        "#Roberto Fransisco Reyes Palomo____USIS032421\n",
        "#Julio Alexander Maravilla Umañana__USIS018420\n",
        "#Joan Steven Gomez Contreras_______USIS014921\n",
        "#Rene Gustavo Garcia Gomez_________USIS595218"
      ],
      "metadata": {
        "id": "rX1cnKcXe0iZ"
      }
    },
    {
      "cell_type": "markdown",
      "source": [
        "#tarjetas de credito"
      ],
      "metadata": {
        "id": "JQmBrpejzXSv"
      }
    },
    {
      "cell_type": "code",
      "source": [
        "#Carga del archivo en colab \n",
        "from google.colab import files\n",
        "unloaded = files.upload()"
      ],
      "metadata": {
        "colab": {
          "base_uri": "https://localhost:8080/",
          "height": 73
        },
        "id": "axMaOoP05Jyc",
        "outputId": "06b635ce-fd0a-414c-9bd6-4c76624c6b38"
      },
      "execution_count": 87,
      "outputs": [
        {
          "output_type": "display_data",
          "data": {
            "text/plain": [
              "<IPython.core.display.HTML object>"
            ],
            "text/html": [
              "\n",
              "     <input type=\"file\" id=\"files-13a4adf7-c9fa-4a2f-a27e-1cf5f164ed73\" name=\"files[]\" multiple disabled\n",
              "        style=\"border:none\" />\n",
              "     <output id=\"result-13a4adf7-c9fa-4a2f-a27e-1cf5f164ed73\">\n",
              "      Upload widget is only available when the cell has been executed in the\n",
              "      current browser session. Please rerun this cell to enable.\n",
              "      </output>\n",
              "      <script>// Copyright 2017 Google LLC\n",
              "//\n",
              "// Licensed under the Apache License, Version 2.0 (the \"License\");\n",
              "// you may not use this file except in compliance with the License.\n",
              "// You may obtain a copy of the License at\n",
              "//\n",
              "//      http://www.apache.org/licenses/LICENSE-2.0\n",
              "//\n",
              "// Unless required by applicable law or agreed to in writing, software\n",
              "// distributed under the License is distributed on an \"AS IS\" BASIS,\n",
              "// WITHOUT WARRANTIES OR CONDITIONS OF ANY KIND, either express or implied.\n",
              "// See the License for the specific language governing permissions and\n",
              "// limitations under the License.\n",
              "\n",
              "/**\n",
              " * @fileoverview Helpers for google.colab Python module.\n",
              " */\n",
              "(function(scope) {\n",
              "function span(text, styleAttributes = {}) {\n",
              "  const element = document.createElement('span');\n",
              "  element.textContent = text;\n",
              "  for (const key of Object.keys(styleAttributes)) {\n",
              "    element.style[key] = styleAttributes[key];\n",
              "  }\n",
              "  return element;\n",
              "}\n",
              "\n",
              "// Max number of bytes which will be uploaded at a time.\n",
              "const MAX_PAYLOAD_SIZE = 100 * 1024;\n",
              "\n",
              "function _uploadFiles(inputId, outputId) {\n",
              "  const steps = uploadFilesStep(inputId, outputId);\n",
              "  const outputElement = document.getElementById(outputId);\n",
              "  // Cache steps on the outputElement to make it available for the next call\n",
              "  // to uploadFilesContinue from Python.\n",
              "  outputElement.steps = steps;\n",
              "\n",
              "  return _uploadFilesContinue(outputId);\n",
              "}\n",
              "\n",
              "// This is roughly an async generator (not supported in the browser yet),\n",
              "// where there are multiple asynchronous steps and the Python side is going\n",
              "// to poll for completion of each step.\n",
              "// This uses a Promise to block the python side on completion of each step,\n",
              "// then passes the result of the previous step as the input to the next step.\n",
              "function _uploadFilesContinue(outputId) {\n",
              "  const outputElement = document.getElementById(outputId);\n",
              "  const steps = outputElement.steps;\n",
              "\n",
              "  const next = steps.next(outputElement.lastPromiseValue);\n",
              "  return Promise.resolve(next.value.promise).then((value) => {\n",
              "    // Cache the last promise value to make it available to the next\n",
              "    // step of the generator.\n",
              "    outputElement.lastPromiseValue = value;\n",
              "    return next.value.response;\n",
              "  });\n",
              "}\n",
              "\n",
              "/**\n",
              " * Generator function which is called between each async step of the upload\n",
              " * process.\n",
              " * @param {string} inputId Element ID of the input file picker element.\n",
              " * @param {string} outputId Element ID of the output display.\n",
              " * @return {!Iterable<!Object>} Iterable of next steps.\n",
              " */\n",
              "function* uploadFilesStep(inputId, outputId) {\n",
              "  const inputElement = document.getElementById(inputId);\n",
              "  inputElement.disabled = false;\n",
              "\n",
              "  const outputElement = document.getElementById(outputId);\n",
              "  outputElement.innerHTML = '';\n",
              "\n",
              "  const pickedPromise = new Promise((resolve) => {\n",
              "    inputElement.addEventListener('change', (e) => {\n",
              "      resolve(e.target.files);\n",
              "    });\n",
              "  });\n",
              "\n",
              "  const cancel = document.createElement('button');\n",
              "  inputElement.parentElement.appendChild(cancel);\n",
              "  cancel.textContent = 'Cancel upload';\n",
              "  const cancelPromise = new Promise((resolve) => {\n",
              "    cancel.onclick = () => {\n",
              "      resolve(null);\n",
              "    };\n",
              "  });\n",
              "\n",
              "  // Wait for the user to pick the files.\n",
              "  const files = yield {\n",
              "    promise: Promise.race([pickedPromise, cancelPromise]),\n",
              "    response: {\n",
              "      action: 'starting',\n",
              "    }\n",
              "  };\n",
              "\n",
              "  cancel.remove();\n",
              "\n",
              "  // Disable the input element since further picks are not allowed.\n",
              "  inputElement.disabled = true;\n",
              "\n",
              "  if (!files) {\n",
              "    return {\n",
              "      response: {\n",
              "        action: 'complete',\n",
              "      }\n",
              "    };\n",
              "  }\n",
              "\n",
              "  for (const file of files) {\n",
              "    const li = document.createElement('li');\n",
              "    li.append(span(file.name, {fontWeight: 'bold'}));\n",
              "    li.append(span(\n",
              "        `(${file.type || 'n/a'}) - ${file.size} bytes, ` +\n",
              "        `last modified: ${\n",
              "            file.lastModifiedDate ? file.lastModifiedDate.toLocaleDateString() :\n",
              "                                    'n/a'} - `));\n",
              "    const percent = span('0% done');\n",
              "    li.appendChild(percent);\n",
              "\n",
              "    outputElement.appendChild(li);\n",
              "\n",
              "    const fileDataPromise = new Promise((resolve) => {\n",
              "      const reader = new FileReader();\n",
              "      reader.onload = (e) => {\n",
              "        resolve(e.target.result);\n",
              "      };\n",
              "      reader.readAsArrayBuffer(file);\n",
              "    });\n",
              "    // Wait for the data to be ready.\n",
              "    let fileData = yield {\n",
              "      promise: fileDataPromise,\n",
              "      response: {\n",
              "        action: 'continue',\n",
              "      }\n",
              "    };\n",
              "\n",
              "    // Use a chunked sending to avoid message size limits. See b/62115660.\n",
              "    let position = 0;\n",
              "    do {\n",
              "      const length = Math.min(fileData.byteLength - position, MAX_PAYLOAD_SIZE);\n",
              "      const chunk = new Uint8Array(fileData, position, length);\n",
              "      position += length;\n",
              "\n",
              "      const base64 = btoa(String.fromCharCode.apply(null, chunk));\n",
              "      yield {\n",
              "        response: {\n",
              "          action: 'append',\n",
              "          file: file.name,\n",
              "          data: base64,\n",
              "        },\n",
              "      };\n",
              "\n",
              "      let percentDone = fileData.byteLength === 0 ?\n",
              "          100 :\n",
              "          Math.round((position / fileData.byteLength) * 100);\n",
              "      percent.textContent = `${percentDone}% done`;\n",
              "\n",
              "    } while (position < fileData.byteLength);\n",
              "  }\n",
              "\n",
              "  // All done.\n",
              "  yield {\n",
              "    response: {\n",
              "      action: 'complete',\n",
              "    }\n",
              "  };\n",
              "}\n",
              "\n",
              "scope.google = scope.google || {};\n",
              "scope.google.colab = scope.google.colab || {};\n",
              "scope.google.colab._files = {\n",
              "  _uploadFiles,\n",
              "  _uploadFilesContinue,\n",
              "};\n",
              "})(self);\n",
              "</script> "
            ]
          },
          "metadata": {}
        },
        {
          "output_type": "stream",
          "name": "stdout",
          "text": [
            "Saving trx_tarjetas_credito.csv to trx_tarjetas_credito (1).csv\n"
          ]
        }
      ]
    },
    {
      "cell_type": "code",
      "source": [
        "from tables.table import Column\n",
        "\n",
        "#Importacion de plugins y porcentaje de gasto por genero\n",
        "import pandas as pd\n",
        "import matplotlib.pyplot as plt\n",
        "Datos=pd.read_csv('trx_tarjetas_credito.csv') \n",
        "Porcentajes = Datos.value_counts('Gender')\n",
        "print(Porcentajes)\n",
        "\n",
        "Porcentajes.to_excel('Genero que mas gasta.xlsx',sep=\";\")\n",
        "\n",
        "#Codigo de las graficas aqui\n",
        "plt.title('Porcentaje de gasto por genero')\n",
        "centre_circle = plt.Circle((0, 0), 0.50, fc='white')\n",
        "fig = plt.gcf()\n",
        "fig.gca().add_artist(centre_circle)\n",
        "\n",
        "plt.pie(Porcentajes,\n",
        "         labels=[\"Femenino\",\"Masculino\"], autopct= '% 0.1f %%',pctdistance=0.85)\n",
        "plt.show()"
      ],
      "metadata": {
        "colab": {
          "base_uri": "https://localhost:8080/",
          "height": 337
        },
        "id": "3sMz6KkRyFfF",
        "outputId": "6886706f-d95c-41cd-9101-8f3c0edbcdc2"
      },
      "execution_count": 88,
      "outputs": [
        {
          "output_type": "stream",
          "name": "stdout",
          "text": [
            "Gender\n",
            "F    13680\n",
            "M    12372\n",
            "dtype: int64\n"
          ]
        },
        {
          "output_type": "display_data",
          "data": {
            "text/plain": [
              "<Figure size 432x288 with 1 Axes>"
            ],
            "image/png": "[encoded data removed]"
          },
          "metadata": {}
        }
      ]
    },
    {
      "cell_type": "code",
      "source": [
        "#Elaboracion de gastos por ciudad\n",
        "import pandas as pd\n",
        "import matplotlib.pyplot as plt\n",
        "import seaborn as sb\n",
        "Gastos_por_ciudad = pd.read_csv('trx_tarjetas_credito.csv')\n",
        "Gastos_totales = pd.crosstab(index = Gastos_por_ciudad[\"City\"],columns=\"Cantidades\")\n",
        "\n",
        "tarjetas_ciudades = Gastos_por_ciudad.groupby([\"City\",\"Card Type\"])[\"Amount\"]. sum()\n",
        "print(tarjetas_ciudades.head(10))\n",
        "tarjetas_ciudades.to_excel('Gastos de tarjetas por ciudad.xlsx')\n",
        "\n",
        "\n",
        "#Aqui codigo de grafica\n",
        "plt.pie(tarjetas_ciudades.head(10),autopct=\"%1.1f%%\", shadow= True,radius=3 )\n",
        "plt.legend(loc=2, fontsize=9,labels=tarjetas_ciudades.index)\n",
        "plt.title(\"Total de tipo de gasto\")\n",
        "plt.axis(\"equal\")\n",
        "plt.xlim(6,2)\n",
        "plt.show()"
      ],
      "metadata": {
        "id": "PoA4-IBa85b3",
        "colab": {
          "base_uri": "https://localhost:8080/",
          "height": 483
        },
        "outputId": "94f91c36-cb0e-4a3a-d9af-83d67e2d8f73"
      },
      "execution_count": 89,
      "outputs": [
        {
          "output_type": "stream",
          "name": "stdout",
          "text": [
            "City              Card Type\n",
            "Achalpur, India   Gold         679992\n",
            "                  Platinum     178612\n",
            "                  Signature    547005\n",
            "                  Silver       201032\n",
            "Adilabad, India   Gold          49020\n",
            "                  Platinum     664857\n",
            "                  Signature    933251\n",
            "                  Silver       122336\n",
            "Adityapur, India  Gold         486710\n",
            "                  Platinum      17703\n",
            "Name: Amount, dtype: int64\n"
          ]
        },
        {
          "output_type": "display_data",
          "data": {
            "text/plain": [
              "<Figure size 432x288 with 1 Axes>"
            ],
            "image/png": "[encoded data removed]"
          },
          "metadata": {}
        }
      ]
    },
    {
      "cell_type": "code",
      "source": [
        "#Tercer Ejercicio Cantidad \n",
        "import pandas as pd\n",
        "import matplotlib.pyplot as plt\n",
        "Billeteras = pd.read_csv('trx_tarjetas_credito.csv') \n",
        "print(Billeteras['Exp Type'].value_counts())\n",
        "\n",
        "gasto_total = Billeteras.groupby([\"Exp Type\"])[\"Amount\"].sum()\n",
        "gasto_total.to_excel('Tipos de Gastos.xlsx')\n",
        "\n",
        "#Aqui codigo de grafica\n",
        "fig, ax = plt.subplots()\n",
        "di = ['Food','Fuel','Bills','Entertainment','Grocery','Travel']\n",
        "colores = \"red\",\"blue\",\"yellow\",\"black\",\"green\",\"purple\"\n",
        "Tarjetas = {'Gastos por billeteras':[5463,5257,5078,4762,4754,738]}\n",
        "ax.bar(di, Tarjetas['Gastos por billeteras'], label = 'Gasto Mayor', color = colores)\n",
        "ax.legend(loc = 'upper right')\n",
        "plt.show()"
      ],
      "metadata": {
        "colab": {
          "base_uri": "https://localhost:8080/",
          "height": 393
        },
        "id": "qm9dKJzDFgGu",
        "outputId": "122c17f2-23ee-4fd6-b582-1e9aeddb99d2"
      },
      "execution_count": 90,
      "outputs": [
        {
          "output_type": "stream",
          "name": "stdout",
          "text": [
            "Food             5463\n",
            "Fuel             5257\n",
            "Bills            5078\n",
            "Entertainment    4762\n",
            "Grocery          4754\n",
            "Travel            738\n",
            "Name: Exp Type, dtype: int64\n"
          ]
        },
        {
          "output_type": "display_data",
          "data": {
            "text/plain": [
              "<Figure size 432x288 with 1 Axes>"
            ],
            "image/png": "[encoded data removed]"
          },
          "metadata": {
            "needs_background": "light"
          }
        }
      ]
    }
  ]
}